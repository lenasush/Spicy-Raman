{
 "cells": [
  {
   "cell_type": "code",
   "execution_count": 79,
   "metadata": {},
   "outputs": [],
   "source": [
    "import numpy as np\n",
    "%matplotlib agg\n",
    "import pandas as pd\n",
    "import os\n",
    "import shutil"
   ]
  },
  {
   "cell_type": "code",
   "execution_count": 80,
   "metadata": {},
   "outputs": [],
   "source": [
    "outsidesource ='/Users/pojulai168931/Desktop/DIRECT/Spicy-Raman'\n",
    "os.chdir(outsidesource)"
   ]
  },
  {
   "cell_type": "code",
   "execution_count": 81,
   "metadata": {},
   "outputs": [
    {
     "data": {
      "text/plain": [
       "'/Users/pojulai168931/Desktop/DIRECT/Spicy-Raman'"
      ]
     },
     "execution_count": 81,
     "metadata": {},
     "output_type": "execute_result"
    }
   ],
   "source": [
    "os.getcwd()"
   ]
  },
  {
   "cell_type": "code",
   "execution_count": 82,
   "metadata": {
    "scrolled": true
   },
   "outputs": [
    {
     "data": {
      "text/plain": [
       "'/Users/pojulai168931/Desktop/DIRECT/Spicy-Raman/trainingdata_Pictures'"
      ]
     },
     "execution_count": 82,
     "metadata": {},
     "output_type": "execute_result"
    }
   ],
   "source": [
    "source = os.getcwd() + '/trainingdata_Pictures'\n",
    "source"
   ]
  },
  {
   "cell_type": "code",
   "execution_count": 83,
   "metadata": {
    "scrolled": false
   },
   "outputs": [],
   "source": [
    "def picture_classification(source):\n",
    "    with os.scandir(source) as entries:\n",
    "        for entry in entries:\n",
    "            foldername = entry.name\n",
    "            if 'polyethylene' in foldername:\n",
    "                os.chdir(source)\n",
    "                if not os.path.exists('polyethylene_Pictures'):\n",
    "                    os.makedirs('polyethylene_Pictures')\n",
    "                shutil.move(source + '/' + foldername, os.getcwd() + '/polyethylene_Pictures')\n",
    "                os.chdir(os.getcwd())\n",
    "            elif 'polyamide' in foldername:\n",
    "                os.chdir(source)\n",
    "                if not os.path.exists('polyamide_Pictures'):\n",
    "                    os.makedirs('polyamide_Pictures')\n",
    "                shutil.move(source + '/' + foldername, os.getcwd() + '/polyamide_Pictures')\n",
    "                os.chdir(os.getcwd())\n",
    "            elif 'fluorescent' in foldername:\n",
    "                os.chdir(source)\n",
    "                if not os.path.exists('fluorescent_Pictures'):\n",
    "                    os.makedirs('fluorescent_Pictures')\n",
    "                shutil.move(source + '/' +foldername, os.getcwd() + '/fluorescent_Pictures')\n",
    "                os.chdir(os.getcwd())\n",
    "            elif 'nylon' in foldername:\n",
    "                os.chdir(source)\n",
    "                if not os.path.exists('nylon_Pictures'):\n",
    "                    os.makedirs('nylon_Pictures')\n",
    "                shutil.move(source + '/' +foldername, os.getcwd() + '/nylon_Pictures')\n",
    "                os.chdir(os.getcwd())\n",
    "            else:\n",
    "                os.chdir(source)\n",
    "                if not os.path.exists('others_Pictures'):\n",
    "                    os.makedirs('others_Pictures')\n",
    "                shutil.move(source + '/' +foldername, os.getcwd() + '/others_Pictures')\n",
    "                os.chdir(os.getcwd())"
   ]
  },
  {
   "cell_type": "code",
   "execution_count": 84,
   "metadata": {},
   "outputs": [],
   "source": [
    "picture_classification(source)"
   ]
  },
  {
   "cell_type": "code",
   "execution_count": 87,
   "metadata": {},
   "outputs": [],
   "source": [
    "source2 ='/Users/pojulai168931/Desktop/DIRECT/Spicy-Raman'\n",
    "os.chdir(source2)"
   ]
  },
  {
   "cell_type": "code",
   "execution_count": 88,
   "metadata": {},
   "outputs": [
    {
     "data": {
      "text/plain": [
       "'/Users/pojulai168931/Desktop/DIRECT/Spicy-Raman'"
      ]
     },
     "execution_count": 88,
     "metadata": {},
     "output_type": "execute_result"
    }
   ],
   "source": [
    "os.getcwd()"
   ]
  },
  {
   "cell_type": "code",
   "execution_count": 89,
   "metadata": {},
   "outputs": [
    {
     "data": {
      "text/plain": [
       "'/Users/pojulai168931/Desktop/DIRECT/Spicy-Raman/validationdata_Pictures'"
      ]
     },
     "execution_count": 89,
     "metadata": {},
     "output_type": "execute_result"
    }
   ],
   "source": [
    "source = os.getcwd() + '/validationdata_Pictures'\n",
    "source"
   ]
  },
  {
   "cell_type": "code",
   "execution_count": 90,
   "metadata": {},
   "outputs": [],
   "source": [
    "def picture_classification(source):\n",
    "    with os.scandir(source) as entries:\n",
    "        for entry in entries:\n",
    "            foldername = entry.name\n",
    "            if 'polyethylene' in foldername:\n",
    "                os.chdir(source)\n",
    "                if not os.path.exists('polyethylene_Pictures'):\n",
    "                    os.makedirs('polyethylene_Pictures')\n",
    "                shutil.move(source + '/' + foldername, os.getcwd() + '/polyethylene_Pictures')\n",
    "                os.chdir(os.getcwd())\n",
    "            elif 'polyamide' in foldername:\n",
    "                os.chdir(source)\n",
    "                if not os.path.exists('polyamide_Pictures'):\n",
    "                    os.makedirs('polyamide_Pictures')\n",
    "                shutil.move(source + '/' + foldername, os.getcwd() + '/polyamide_Pictures')\n",
    "                os.chdir(os.getcwd())\n",
    "            elif 'fluorescent' in foldername:\n",
    "                os.chdir(source)\n",
    "                if not os.path.exists('fluorescent_Pictures'):\n",
    "                    os.makedirs('fluorescent_Pictures')\n",
    "                shutil.move(source + '/' +foldername, os.getcwd() + '/fluorescent_Pictures')\n",
    "                os.chdir(os.getcwd())\n",
    "            elif 'nylon' in foldername:\n",
    "                os.chdir(source)\n",
    "                if not os.path.exists('nylon_Pictures'):\n",
    "                    os.makedirs('nylon_Pictures')\n",
    "                shutil.move(source + '/' +foldername, os.getcwd() + '/nylon_Pictures')\n",
    "                os.chdir(os.getcwd())\n",
    "            else:\n",
    "                os.chdir(source)\n",
    "                if not os.path.exists('others_Pictures'):\n",
    "                    os.makedirs('others_Pictures')\n",
    "                shutil.move(source + '/' +foldername, os.getcwd() + '/others_Pictures')\n",
    "                os.chdir(os.getcwd())"
   ]
  },
  {
   "cell_type": "code",
   "execution_count": 91,
   "metadata": {},
   "outputs": [],
   "source": [
    "picture_classification(source)"
   ]
  },
  {
   "cell_type": "code",
   "execution_count": null,
   "metadata": {},
   "outputs": [],
   "source": []
  }
 ],
 "metadata": {
  "kernelspec": {
   "display_name": "Python 3",
   "language": "python",
   "name": "python3"
  },
  "language_info": {
   "codemirror_mode": {
    "name": "ipython",
    "version": 3
   },
   "file_extension": ".py",
   "mimetype": "text/x-python",
   "name": "python",
   "nbconvert_exporter": "python",
   "pygments_lexer": "ipython3",
   "version": "3.7.4"
  }
 },
 "nbformat": 4,
 "nbformat_minor": 2
}
