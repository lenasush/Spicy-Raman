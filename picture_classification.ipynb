{
 "cells": [
  {
   "cell_type": "code",
   "execution_count": 2,
   "metadata": {},
   "outputs": [],
   "source": [
    "import os\n",
    "import shutil"
   ]
  },
  {
   "cell_type": "code",
   "execution_count": 3,
   "metadata": {},
   "outputs": [
    {
     "data": {
      "text/plain": [
       "'/Users/juliawang/Desktop/Direct/Spicy-Raman'"
      ]
     },
     "execution_count": 3,
     "metadata": {},
     "output_type": "execute_result"
    }
   ],
   "source": [
    "os.getcwd()"
   ]
  },
  {
   "cell_type": "code",
   "execution_count": 4,
   "metadata": {
    "scrolled": true
   },
   "outputs": [
    {
     "data": {
      "text/plain": [
       "'/Users/juliawang/Desktop/Direct/Spicy-Raman/trainingdata_Pictures'"
      ]
     },
     "execution_count": 4,
     "metadata": {},
     "output_type": "execute_result"
    }
   ],
   "source": [
    "source = os.getcwd() + '/trainingdata_Pictures'\n",
    "source"
   ]
  },
  {
   "cell_type": "code",
   "execution_count": 5,
   "metadata": {},
   "outputs": [],
   "source": [
    "source2 = os.getcwd() + '/validationdata_Pictures'"
   ]
  },
  {
   "cell_type": "code",
   "execution_count": 29,
   "metadata": {},
   "outputs": [],
   "source": [
    "def picture_classification(source):\n",
    "    with os.scandir(source) as entries:\n",
    "        for entry in entries:\n",
    "            foldername = entry.name\n",
    "            if 'polyethylene' in foldername:\n",
    "                if not os.path.exists('polyethylene_Pictures'):\n",
    "                    os.makedirs('polyethylene_Pictures')\n",
    "                shutil.move(source + '/' + foldername, source + '/polyethylene_Pictures')\n",
    "            elif 'polyamide' in foldername:\n",
    "                os.chdir(source)\n",
    "                if not os.path.exists('polyamide_Pictures'):\n",
    "                    os.makedirs('polyamide_Pictures')\n",
    "                shutil.move(source + '/' + foldername, source + '/polyamide_Pictures')\n",
    "            elif 'fluorescent' in foldername:\n",
    "                os.chdir(source)\n",
    "                if not os.path.exists('fluorescent_Pictures'):\n",
    "                    os.makedirs('fluorescent_Pictures')\n",
    "                shutil.move(source + '/' +foldername, source + '/fluorescent_Pictures')\n",
    "            elif 'nylon' in foldername:\n",
    "                os.chdir(source)\n",
    "                if not os.path.exists('nylon_Pictures'):\n",
    "                    os.makedirs('nylon_Pictures')\n",
    "                shutil.move(source + '/' +foldername, source + '/nylon_Pictures')\n",
    "            else:\n",
    "                if not os.path.exists('others_Pictures'):\n",
    "                    os.makedirs('others_Pictures')\n",
    "                shutil.move(source + '/' +foldername, source + '/others_Pictures')"
   ]
  },
  {
   "cell_type": "code",
   "execution_count": 84,
   "metadata": {},
   "outputs": [],
   "source": [
    "picture_classification(source)"
   ]
  },
  {
   "cell_type": "code",
   "execution_count": 5,
   "metadata": {},
   "outputs": [
    {
     "data": {
      "text/plain": [
       "'/Users/juliawang/Desktop/Direct/Spicy-Raman/validationdata_Pictures'"
      ]
     },
     "execution_count": 5,
     "metadata": {},
     "output_type": "execute_result"
    }
   ],
   "source": [
    "source = os.getcwd() + '/validationdata_Pictures'\n",
    "source"
   ]
  },
  {
   "cell_type": "code",
   "execution_count": 26,
   "metadata": {},
   "outputs": [],
   "source": [
    "def picture_classification(source):\n",
    "    with os.scandir(source) as entries:\n",
    "        for entry in entries:\n",
    "            foldername = entry.name\n",
    "            if 'polyethylene' in foldername:\n",
    "                os.chdir(source)\n",
    "                if not os.path.exists('polyethylene_Pictures'):\n",
    "                    os.makedirs('polyethylene_Pictures')\n",
    "                shutil.move(source + '/' + foldername, os.getcwd() + '/polyethylene_Pictures')\n",
    "                os.chdir(os.getcwd())\n",
    "            elif 'polyamide' in foldername:\n",
    "                os.chdir(source)\n",
    "                if not os.path.exists('polyamide_Pictures'):\n",
    "                    os.makedirs('polyamide_Pictures')\n",
    "                shutil.move(source + '/' + foldername, os.getcwd() + '/polyamide_Pictures')\n",
    "                os.chdir(os.getcwd())\n",
    "            elif 'fluorescent' in foldername:\n",
    "                os.chdir(source)\n",
    "                if not os.path.exists('fluorescent_Pictures'):\n",
    "                    os.makedirs('fluorescent_Pictures')\n",
    "                shutil.move(source + '/' +foldername, os.getcwd() + '/fluorescent_Pictures')\n",
    "                os.chdir(os.getcwd())\n",
    "            elif 'nylon' in foldername:\n",
    "                os.chdir(source)\n",
    "                if not os.path.exists('nylon_Pictures'):\n",
    "                    os.makedirs('nylon_Pictures')\n",
    "                shutil.move(source + '/' +foldername, os.getcwd() + '/nylon_Pictures')\n",
    "                os.chdir(os.getcwd())\n",
    "            else:\n",
    "                os.chdir(source)\n",
    "                if not os.path.exists('others_Pictures'):\n",
    "                    os.makedirs('others_Pictures')\n",
    "                shutil.move(source + '/' +foldername, os.getcwd() + '/others_Pictures')\n",
    "                os.chdir(os.getcwd())"
   ]
  },
  {
   "cell_type": "code",
   "execution_count": 28,
   "metadata": {},
   "outputs": [],
   "source": [
    "def picture_classification(source):\n",
    "    with os.scandir(source) as entries:\n",
    "        for entry in entries:\n",
    "            foldername = entry.name\n",
    "            if 'polyethylene' in foldername:\n",
    "                if not os.path.exists('polyethylene_Pictures'):\n",
    "                    os.makedirs('polyethylene_Pictures')\n",
    "                shutil.move(source + '/' + foldername, os.getcwd() + '/polyethylene_Pictures')\n",
    "                #os.chdir(os.getcwd())\n",
    "            elif 'polyamide' in foldername:\n",
    "                os.chdir(source)\n",
    "                if not os.path.exists('polyamide_Pictures'):\n",
    "                    os.makedirs('polyamide_Pictures')\n",
    "                shutil.move(source + '/' + foldername, os.getcwd() + '/polyamide_Pictures')\n",
    "                #os.chdir(os.getcwd())\n",
    "            elif 'fluorescent' in foldername:\n",
    "                os.chdir(source)\n",
    "                if not os.path.exists('fluorescent_Pictures'):\n",
    "                    os.makedirs('fluorescent_Pictures')\n",
    "                shutil.move(source + '/' +foldername, os.getcwd() + '/fluorescent_Pictures')\n",
    "                #os.chdir(os.getcwd())\n",
    "            elif 'nylon' in foldername:\n",
    "                os.chdir(source)\n",
    "                if not os.path.exists('nylon_Pictures'):\n",
    "                    os.makedirs('nylon_Pictures')\n",
    "                shutil.move(source + '/' +foldername, os.getcwd() + '/nylon_Pictures')\n",
    "                #os.chdir(os.getcwd())\n",
    "            else:\n",
    "                #os.chdir(source)\n",
    "                if not os.path.exists('others_Pictures'):\n",
    "                    os.makedirs('others_Pictures')\n",
    "                shutil.move(source + '/' +foldername, os.getcwd() + '/others_Pictures')\n",
    "                #os.chdir(os.getcwd())"
   ]
  },
  {
   "cell_type": "code",
   "execution_count": 6,
   "metadata": {},
   "outputs": [],
   "source": [
    "import pic_class as pc"
   ]
  },
  {
   "cell_type": "code",
   "execution_count": 8,
   "metadata": {},
   "outputs": [
    {
     "data": {
      "text/plain": [
       "<posix.ScandirIterator at 0x10c8d42d0>"
      ]
     },
     "execution_count": 8,
     "metadata": {},
     "output_type": "execute_result"
    }
   ],
   "source": [
    "os.scandir(source)"
   ]
  },
  {
   "cell_type": "code",
   "execution_count": 7,
   "metadata": {},
   "outputs": [
    {
     "data": {
      "text/plain": [
       "6"
      ]
     },
     "execution_count": 7,
     "metadata": {},
     "output_type": "execute_result"
    }
   ],
   "source": [
    "len(os.listdir(source))"
   ]
  },
  {
   "cell_type": "code",
   "execution_count": 21,
   "metadata": {},
   "outputs": [
    {
     "name": "stdout",
     "output_type": "stream",
     "text": [
      "0\n"
     ]
    },
    {
     "ename": "AssertionError",
     "evalue": "There is no pictures in the/Users/juliawang/Desktop/Direct/Spicy-Raman/trainingdata_Pictures",
     "output_type": "error",
     "traceback": [
      "\u001b[0;31m---------------------------------------------------------------------------\u001b[0m",
      "\u001b[0;31mAssertionError\u001b[0m                            Traceback (most recent call last)",
      "\u001b[0;32m<ipython-input-21-5b0ebf423eec>\u001b[0m in \u001b[0;36m<module>\u001b[0;34m\u001b[0m\n\u001b[1;32m      6\u001b[0m             \u001b[0mpnumber\u001b[0m \u001b[0;34m=\u001b[0m \u001b[0mpnumber\u001b[0m \u001b[0;34m+\u001b[0m \u001b[0;36m1\u001b[0m\u001b[0;34m\u001b[0m\u001b[0;34m\u001b[0m\u001b[0m\n\u001b[1;32m      7\u001b[0m     \u001b[0mprint\u001b[0m \u001b[0;34m(\u001b[0m\u001b[0mpnumber\u001b[0m\u001b[0;34m)\u001b[0m\u001b[0;34m\u001b[0m\u001b[0;34m\u001b[0m\u001b[0m\n\u001b[0;32m----> 8\u001b[0;31m     \u001b[0;32massert\u001b[0m \u001b[0mpnumber\u001b[0m \u001b[0;32mis\u001b[0m \u001b[0;32mnot\u001b[0m \u001b[0;36m0\u001b[0m\u001b[0;34m,\u001b[0m\u001b[0;34m'There is no pictures in the'\u001b[0m \u001b[0;34m+\u001b[0m \u001b[0msource\u001b[0m\u001b[0;34m\u001b[0m\u001b[0;34m\u001b[0m\u001b[0m\n\u001b[0m",
      "\u001b[0;31mAssertionError\u001b[0m: There is no pictures in the/Users/juliawang/Desktop/Direct/Spicy-Raman/trainingdata_Pictures"
     ]
    }
   ],
   "source": [
    "pnumber = 0\n",
    "with os.scandir(source) as entries:\n",
    "    for entry in entries:\n",
    "        foldername = entry.name\n",
    "        if foldername.endswith(\".jpg\") or foldername.endswith(\".png\"):\n",
    "            pnumber = pnumber + 1\n",
    "    print (pnumber)\n",
    "    assert pnumber is not 0,'There is no pictures in the' + source"
   ]
  },
  {
   "cell_type": "code",
   "execution_count": null,
   "metadata": {},
   "outputs": [],
   "source": []
  }
 ],
 "metadata": {
  "kernelspec": {
   "display_name": "Python 3",
   "language": "python",
   "name": "python3"
  },
  "language_info": {
   "codemirror_mode": {
    "name": "ipython",
    "version": 3
   },
   "file_extension": ".py",
   "mimetype": "text/x-python",
   "name": "python",
   "nbconvert_exporter": "python",
   "pygments_lexer": "ipython3",
   "version": "3.7.6"
  }
 },
 "nbformat": 4,
 "nbformat_minor": 2
}
