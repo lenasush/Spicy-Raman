{
 "cells": [
  {
   "cell_type": "code",
   "execution_count": 16,
   "metadata": {},
   "outputs": [],
   "source": [
    "import tensorflow as tf\n",
    "from tensorflow import keras\n",
    "import numpy as np\n",
    "import matplotlib.pyplot as plt"
   ]
  },
  {
   "cell_type": "code",
   "execution_count": 17,
   "metadata": {},
   "outputs": [],
   "source": [
    "from tensorflow.keras.models import Sequential\n",
    "from tensorflow.keras.layers import Dense, Conv2D, Flatten, Dropout, MaxPooling2D\n",
    "from tensorflow.keras.preprocessing.image import ImageDataGenerator\n",
    "\n",
    "import os"
   ]
  },
  {
   "cell_type": "markdown",
   "metadata": {},
   "source": [
    "## Data Importing"
   ]
  },
  {
   "cell_type": "code",
   "execution_count": 18,
   "metadata": {},
   "outputs": [
    {
     "data": {
      "text/plain": [
       "'/Users/juliawang/Desktop/Direct/Spicy-Raman'"
      ]
     },
     "execution_count": 18,
     "metadata": {},
     "output_type": "execute_result"
    }
   ],
   "source": [
    "PATH = os.getcwd()\n",
    "PATH"
   ]
  },
  {
   "cell_type": "code",
   "execution_count": 19,
   "metadata": {},
   "outputs": [],
   "source": [
    "train_dir = os.path.join(PATH, 'trainingdata_Pictures')\n",
    "validation_dir = os.path.join(PATH, 'validationdata_Pictures')"
   ]
  },
  {
   "cell_type": "markdown",
   "metadata": {},
   "source": [
    "## Data Information"
   ]
  },
  {
   "cell_type": "code",
   "execution_count": 20,
   "metadata": {},
   "outputs": [
    {
     "name": "stdout",
     "output_type": "stream",
     "text": [
      "Total training images: 167\n",
      "Total validation images: 183\n"
     ]
    }
   ],
   "source": [
    "train_fluorescent_dir = os.path.join(train_dir, 'fluorescent_Pictures')\n",
    "train_nylon_dir = os.path.join(train_dir, 'nylon_Pictures')\n",
    "train_polyamide_dir = os.path.join(train_dir, 'polyamide_Pictures')\n",
    "train_polyethylene_dir = os.path.join(train_dir, 'polyethylene_Pictures')\n",
    "train_others_dir = os.path.join(train_dir, 'others_Pictures')\n",
    "\n",
    "validation_fluorescent_dir = os.path.join(validation_dir, 'fluorescent_Pictures')\n",
    "validation_nylon_dir = os.path.join(validation_dir, 'nylon_Pictures')\n",
    "validation_polyamide_dir = os.path.join(validation_dir, 'polyamide_Pictures')\n",
    "validation_polyethylene_dir = os.path.join(validation_dir, 'polyethylene_Pictures')\n",
    "validation_others_dir = os.path.join(validation_dir, 'others_Pictures')\n",
    "\n",
    "num_fluorescent_tr = len(os.listdir(train_fluorescent_dir))\n",
    "num_nylon_tr = len(os.listdir(train_nylon_dir))\n",
    "num_polyamide_tr = len(os.listdir(train_polyamide_dir))\n",
    "num_polyethylene_tr = len(os.listdir(train_polyethylene_dir))\n",
    "num_others_tr = len(os.listdir(train_others_dir))\n",
    "\n",
    "num_fluorescent_val = len(os.listdir(validation_fluorescent_dir))\n",
    "num_nylon_val = len(os.listdir(validation_nylon_dir))\n",
    "num_polyamide_val = len(os.listdir(validation_polyamide_dir))\n",
    "num_polyethylene_val = len(os.listdir(validation_polyethylene_dir))\n",
    "num_others_val = len(os.listdir(validation_others_dir))\n",
    "\n",
    "\n",
    "#num_cats_val = len(os.listdir(validation_cats_dir))\n",
    "#num_dogs_val = len(os.listdir(validation_dogs_dir))\n",
    "\n",
    "total_train = num_fluorescent_tr + num_polyamide_tr + num_nylon_tr + num_polyethylene_tr + num_others_tr\n",
    "total_val = num_fluorescent_val + num_polyamide_val + num_nylon_val + num_polyethylene_val + num_others_val\n",
    "\n",
    "#validation_cats_dir = os.path.join(validation_dir, 'cats')\n",
    "#validation_dogs_dir = os.path.join(validation_dir, 'dogs')\n",
    "print(\"Total training images:\", total_train)\n",
    "print(\"Total validation images:\", total_val)"
   ]
  },
  {
   "cell_type": "markdown",
   "metadata": {},
   "source": [
    "## Data Training"
   ]
  },
  {
   "cell_type": "code",
   "execution_count": 21,
   "metadata": {},
   "outputs": [],
   "source": [
    "batch_size = 128\n",
    "epochs = 15\n",
    "IMG_HEIGHT = 150\n",
    "IMG_WIDTH = 150"
   ]
  },
  {
   "cell_type": "code",
   "execution_count": 22,
   "metadata": {},
   "outputs": [],
   "source": [
    "train_image_generator = ImageDataGenerator(rescale=1./255) \n",
    "validation_image_generator = ImageDataGenerator(rescale=1./255)"
   ]
  },
  {
   "cell_type": "code",
   "execution_count": 23,
   "metadata": {
    "scrolled": true
   },
   "outputs": [
    {
     "name": "stdout",
     "output_type": "stream",
     "text": [
      "Found 166 images belonging to 5 classes.\n"
     ]
    }
   ],
   "source": [
    "train_data_gen = train_image_generator.flow_from_directory(batch_size=batch_size,\n",
    "                                                           directory=train_dir,\n",
    "                                                           shuffle=True,\n",
    "                                                           target_size=(IMG_HEIGHT, IMG_WIDTH),\n",
    "                                                           class_mode='binary')"
   ]
  },
  {
   "cell_type": "code",
   "execution_count": 24,
   "metadata": {},
   "outputs": [
    {
     "name": "stdout",
     "output_type": "stream",
     "text": [
      "Found 183 images belonging to 5 classes.\n"
     ]
    }
   ],
   "source": [
    "val_data_gen = validation_image_generator.flow_from_directory(batch_size=batch_size,\n",
    "                                                              directory=validation_dir,\n",
    "                                                              target_size=(IMG_HEIGHT, IMG_WIDTH),\n",
    "                                                              class_mode='binary')"
   ]
  },
  {
   "cell_type": "code",
   "execution_count": 25,
   "metadata": {},
   "outputs": [],
   "source": [
    "sample_training_images, _ = next(train_data_gen)"
   ]
  },
  {
   "cell_type": "code",
   "execution_count": 26,
   "metadata": {},
   "outputs": [],
   "source": [
    "def plotImages(images_arr):\n",
    "    fig, axes = plt.subplots(1, 5, figsize=(20,20))\n",
    "    axes = axes.flatten()\n",
    "    for img, ax in zip( images_arr, axes):\n",
    "        ax.imshow(img)\n",
    "        ax.axis('off')\n",
    "    plt.tight_layout()\n",
    "    plt.show()"
   ]
  },
  {
   "cell_type": "code",
   "execution_count": 27,
   "metadata": {
    "scrolled": true
   },
   "outputs": [
    {
     "data": {
      "image/png": "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\n",
      "text/plain": [
       "<Figure size 1440x1440 with 5 Axes>"
      ]
     },
     "metadata": {
      "needs_background": "light"
     },
     "output_type": "display_data"
    }
   ],
   "source": [
    "plotImages(sample_training_images[:5])"
   ]
  },
  {
   "cell_type": "code",
   "execution_count": 28,
   "metadata": {},
   "outputs": [],
   "source": [
    "model = Sequential([\n",
    "    Conv2D(16, 3, padding='same', activation='relu', input_shape=(IMG_HEIGHT, IMG_WIDTH ,3)),\n",
    "    MaxPooling2D(),\n",
    "    Conv2D(32, 3, padding='same', activation='relu'),\n",
    "    MaxPooling2D(),\n",
    "    Conv2D(64, 3, padding='same', activation='relu'),\n",
    "    MaxPooling2D(),\n",
    "    Flatten(),\n",
    "    Dense(512, activation='relu'),\n",
    "    Dense(1)\n",
    "])"
   ]
  },
  {
   "cell_type": "code",
   "execution_count": 29,
   "metadata": {},
   "outputs": [],
   "source": [
    "model.compile(optimizer='adam',\n",
    "              loss=tf.keras.losses.BinaryCrossentropy(from_logits=True),\n",
    "              metrics=['accuracy'])"
   ]
  },
  {
   "cell_type": "code",
   "execution_count": 30,
   "metadata": {
    "scrolled": false
   },
   "outputs": [
    {
     "name": "stdout",
     "output_type": "stream",
     "text": [
      "Model: \"sequential\"\n",
      "_________________________________________________________________\n",
      "Layer (type)                 Output Shape              Param #   \n",
      "=================================================================\n",
      "conv2d (Conv2D)              (None, 150, 150, 16)      448       \n",
      "_________________________________________________________________\n",
      "max_pooling2d (MaxPooling2D) (None, 75, 75, 16)        0         \n",
      "_________________________________________________________________\n",
      "conv2d_1 (Conv2D)            (None, 75, 75, 32)        4640      \n",
      "_________________________________________________________________\n",
      "max_pooling2d_1 (MaxPooling2 (None, 37, 37, 32)        0         \n",
      "_________________________________________________________________\n",
      "conv2d_2 (Conv2D)            (None, 37, 37, 64)        18496     \n",
      "_________________________________________________________________\n",
      "max_pooling2d_2 (MaxPooling2 (None, 18, 18, 64)        0         \n",
      "_________________________________________________________________\n",
      "flatten (Flatten)            (None, 20736)             0         \n",
      "_________________________________________________________________\n",
      "dense (Dense)                (None, 512)               10617344  \n",
      "_________________________________________________________________\n",
      "dense_1 (Dense)              (None, 1)                 513       \n",
      "=================================================================\n",
      "Total params: 10,641,441\n",
      "Trainable params: 10,641,441\n",
      "Non-trainable params: 0\n",
      "_________________________________________________________________\n"
     ]
    }
   ],
   "source": [
    "model.summary()"
   ]
  },
  {
   "cell_type": "code",
   "execution_count": null,
   "metadata": {},
   "outputs": [
    {
     "name": "stdout",
     "output_type": "stream",
     "text": [
      "Epoch 1/15\n"
     ]
    }
   ],
   "source": [
    "history = model.fit_generator(\n",
    "    train_data_gen,\n",
    "    steps_per_epoch=total_train // batch_size,\n",
    "    epochs=epochs,\n",
    "    validation_data=val_data_gen,\n",
    "    validation_steps=total_val // batch_size\n",
    ")"
   ]
  },
  {
   "cell_type": "code",
   "execution_count": 1,
   "metadata": {},
   "outputs": [
    {
     "ename": "NameError",
     "evalue": "name 'history' is not defined",
     "output_type": "error",
     "traceback": [
      "\u001b[0;31m---------------------------------------------------------------------------\u001b[0m",
      "\u001b[0;31mNameError\u001b[0m                                 Traceback (most recent call last)",
      "\u001b[0;32m<ipython-input-1-e8b0cf02d4d3>\u001b[0m in \u001b[0;36m<module>\u001b[0;34m\u001b[0m\n\u001b[0;32m----> 1\u001b[0;31m \u001b[0macc\u001b[0m \u001b[0;34m=\u001b[0m \u001b[0mhistory\u001b[0m\u001b[0;34m.\u001b[0m\u001b[0mhistory\u001b[0m\u001b[0;34m[\u001b[0m\u001b[0;34m'accuracy'\u001b[0m\u001b[0;34m]\u001b[0m\u001b[0;34m\u001b[0m\u001b[0;34m\u001b[0m\u001b[0m\n\u001b[0m\u001b[1;32m      2\u001b[0m \u001b[0mval_acc\u001b[0m \u001b[0;34m=\u001b[0m \u001b[0mhistory\u001b[0m\u001b[0;34m.\u001b[0m\u001b[0mhistory\u001b[0m\u001b[0;34m[\u001b[0m\u001b[0;34m'val_accuracy'\u001b[0m\u001b[0;34m]\u001b[0m\u001b[0;34m\u001b[0m\u001b[0;34m\u001b[0m\u001b[0m\n\u001b[1;32m      3\u001b[0m \u001b[0;34m\u001b[0m\u001b[0m\n\u001b[1;32m      4\u001b[0m \u001b[0mloss\u001b[0m\u001b[0;34m=\u001b[0m\u001b[0mhistory\u001b[0m\u001b[0;34m.\u001b[0m\u001b[0mhistory\u001b[0m\u001b[0;34m[\u001b[0m\u001b[0;34m'loss'\u001b[0m\u001b[0;34m]\u001b[0m\u001b[0;34m\u001b[0m\u001b[0;34m\u001b[0m\u001b[0m\n\u001b[1;32m      5\u001b[0m \u001b[0mval_loss\u001b[0m\u001b[0;34m=\u001b[0m\u001b[0mhistory\u001b[0m\u001b[0;34m.\u001b[0m\u001b[0mhistory\u001b[0m\u001b[0;34m[\u001b[0m\u001b[0;34m'val_loss'\u001b[0m\u001b[0;34m]\u001b[0m\u001b[0;34m\u001b[0m\u001b[0;34m\u001b[0m\u001b[0m\n",
      "\u001b[0;31mNameError\u001b[0m: name 'history' is not defined"
     ]
    }
   ],
   "source": [
    "acc = history.history['accuracy']\n",
    "val_acc = history.history['val_accuracy']\n",
    "\n",
    "loss=history.history['loss']\n",
    "val_loss=history.history['val_loss']\n",
    "\n",
    "epochs_range = range(epochs)\n",
    "\n",
    "plt.figure(figsize=(8, 8))\n",
    "plt.subplot(1, 2, 1)\n",
    "plt.plot(epochs_range, acc, label='Training Accuracy')\n",
    "plt.plot(epochs_range, val_acc, label='Validation Accuracy')\n",
    "plt.legend(loc='lower right')\n",
    "plt.title('Training and Validation Accuracy')\n",
    "\n",
    "plt.subplot(1, 2, 2)\n",
    "plt.plot(epochs_range, loss, label='Training Loss')\n",
    "plt.plot(epochs_range, val_loss, label='Validation Loss')\n",
    "plt.legend(loc='upper right')\n",
    "plt.title('Training and Validation Loss')\n",
    "plt.show()"
   ]
  },
  {
   "cell_type": "markdown",
   "metadata": {},
   "source": []
  },
  {
   "cell_type": "code",
   "execution_count": 6,
   "metadata": {},
   "outputs": [],
   "source": [
    "class_names = ['Polyethylene', 'Fluorescent', 'Polyamide', 'Nylon', 'Unknown']\n",
    "train_images = train_images/255.0\n",
    "test_images = test_images/255.0"
   ]
  },
  {
   "cell_type": "code",
   "execution_count": 12,
   "metadata": {},
   "outputs": [],
   "source": [
    "model = keras.Sequential([\n",
    "    keras.layers.Flatten(input_shape = (28,28)),\n",
    "    keras.layers.Dense(128, activation = \"relu\"),\n",
    "    keras.layers.Dense(10, activation = \"softmax\")\n",
    "    ])\n",
    "\n",
    "model.compile(optimizer = \"adam\", loss = \"sparse_categorical_crossentropy\", metrics = [\"accuracy\"])"
   ]
  }
 ],
 "metadata": {
  "kernelspec": {
   "display_name": "Python 3",
   "language": "python",
   "name": "python3"
  },
  "language_info": {
   "codemirror_mode": {
    "name": "ipython",
    "version": 3
   },
   "file_extension": ".py",
   "mimetype": "text/x-python",
   "name": "python",
   "nbconvert_exporter": "python",
   "pygments_lexer": "ipython3",
<<<<<<< HEAD
   "version": "3.7.4"
=======
   "version": "3.7.6"
>>>>>>> 24c4994d6e84a44cb08326e42fc95a26bdc267ce
  }
 },
 "nbformat": 4,
 "nbformat_minor": 2
}
