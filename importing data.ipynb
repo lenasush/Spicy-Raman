{
 "cells": [
  {
   "cell_type": "code",
   "execution_count": 1,
   "metadata": {},
   "outputs": [],
   "source": [
    "import tensorflow as tf\n",
    "from tensorflow.keras.models import Sequential\n",
    "from tensorflow.keras.layers import Dense, Conv2D, Flatten, Dropout, MaxPooling2D\n",
    "from tensorflow.keras.preprocessing.image import ImageDataGenerator\n",
    "import os\n",
    "import numpy as np\n",
    "import matplotlib.pyplot as plt"
   ]
  },
  {
   "cell_type": "markdown",
   "metadata": {},
   "source": [
<<<<<<< HEAD
    "## training and testing split"
   ]
  },
  {
   "cell_type": "code",
   "execution_count": null,
   "metadata": {},
   "outputs": [],
   "source": [
    "def train_test_split(source,train_size):\n",
    "    with os.scandir(source) as entries:\n",
    "        train_size = train_size\n",
    "        validation_counter = 0\n",
    "        train_counter = 0\n",
    "        for entry in entries:\n",
    "            foldername = entry.name\n",
    "            print(foldername)\n",
    "            if not os.path.exists('trainingdata_Pictures'):\n",
    "                os.makedirs('trainingdata_Pictures')\n",
    "            if not os.path.exists('validationdata_Pictures'):\n",
    "                os.makedirs('validationdata_Pictures')       \n",
    "            if foldername.endswith(\".jpg\") or foldername.endswith(\".png\"): \n",
    "                if random.uniform(0, 1) <= train_size:\n",
    "                    shutil.copy(source + '/' + foldername, os.getcwd() + '/trainingdata_Pictures')\n",
    "                    train_counter += 1\n",
    "                else:\n",
    "                    shutil.copy(source + '/' + foldername, os.getcwd() + '/validationdata_Pictures')\n",
    "                    validation_counter += 1         \n",
    "    print('Copied ' + str(train_counter))\n",
    "    print('Copied ' + str(validation_counter))"
   ]
  },
  {
   "cell_type": "markdown",
   "metadata": {},
   "source": [
=======
>>>>>>> SpicyBruce
    "## Loading data"
   ]
  },
  {
   "cell_type": "code",
   "execution_count": null,
   "metadata": {},
   "outputs": [],
   "source": [
    "_URL = 'https://drive.google.com/drive/u/0/folders/1eVc_cgXw7YlkgwgBGE9YjJliSTXqcuRI/'+'filename'\n",
    "\n",
    "path_to_zip = tf.keras.utils.get_file('filename', origin=_URL, extract=True)\n",
    "\n",
    "PATH = os.path.join(os.path.dirname(path_to_zip), 'filename')"
   ]
  },
  {
   "cell_type": "code",
   "execution_count": null,
   "metadata": {},
   "outputs": [],
   "source": [
<<<<<<< HEAD
    "train_dir = os.path.join(PATH, 'trainingdata_Pictures')\n",
    "validation_dir = os.path.join(PATH, 'validationdata_Pictures')"
=======
    "train_dir = os.path.join(PATH, 'train')\n",
    "validation_dir = os.path.join(PATH, 'validation')"
>>>>>>> SpicyBruce
   ]
  },
  {
   "cell_type": "code",
   "execution_count": null,
   "metadata": {},
   "outputs": [],
   "source": [
    "train_fluorescent_Pictures_dir = os.path.join(train_dir, 'fluorescent_Pictures')  \n",
    "train_polyethylene_Pictures_Pictures_dir = os.path.join(train_dir, 'polyethylene_Pictures')\n",
    "train_polyamide_Pictures_dir = os.path.join(train_dir, 'polyamide_Pictures')\n",
    "train_nylon_Pictures_dir = os.path.join(train_dir, 'nylon_Pictures')\n",
    "train_others_Pictures_dir = os.path.join(train_dir, 'others_Pictures')\n",
    "\n",
    "validation_fluorescent_Pictures_dir = os.path.join(validation_dir, 'fluorescent_Pictures')  \n",
    "validation_polyethylene_Pictures_Pictures_dir = os.path.join(validation_dir, 'polyethylene_Pictures')\n",
    "validation_polyamide_Pictures_dir = os.path.join(validation_dir, 'polyamide_Pictures')\n",
    "validation_nylon_Pictures_dir = os.path.join(validation_dir, 'nylon_Pictures')\n",
    "validation_others_Pictures_dir = os.path.join(validation_dir, 'others_Pictures')"
   ]
  },
  {
   "cell_type": "code",
   "execution_count": null,
   "metadata": {},
   "outputs": [],
   "source": [
<<<<<<< HEAD
    "num_fluorescent_tr = len(os.listdir(train_fluorescent_Pictures_dir))\n",
    "num_polyethylene_tr = len(os.listdir(train_polyethylene_Pictures_dir))\n",
    "num_polyamide_tr = len(os.listdir(train_polyamide_Pictures_dir))\n",
    "num_nylon_tr = len(os.listdir(train_nylon_Pictures_dir))\n",
    "num_others_tr = len(os.listdir(train_others_Pictures_dir))\n",
    "\n",
    "num_fluorescent_val = len(os.listdir(validation_fluorescent_Pictures_dir))\n",
    "num_polyethylene_val = len(os.listdir(validation_polyethylene_Pictures_dir))\n",
    "num_polyamide_val = len(os.listdir(validation_polyamide_Pictures_dir))\n",
    "num_nylon_val = len(os.listdir(validation_nylon_Pictures_dir))\n",
    "num_others_val = len(os.listdir(validation_others_Pictures_dir))\n",
    "\n",
    "total_train = num_others_tr + num_nylon_tr + num_polyamide_tr + num_polyethylene_tr + num_fluorescent_tr\n",
    "total_val = num_others_val + num_nylon_val + num_polyamide_val + num_polyethylene_val + num_fluorescent_val"
   ]
  },
  {
   "cell_type": "code",
   "execution_count": null,
   "metadata": {},
   "outputs": [],
   "source": [
=======
>>>>>>> SpicyBruce
    "train_image_generator = ImageDataGenerator(rescale=1./255)\n",
    "validation_image_generator = ImageDataGenerator(rescale=1./255)"
   ]
  },
  {
   "cell_type": "code",
   "execution_count": null,
   "metadata": {},
   "outputs": [],
   "source": [
    "batch_size = 128\n",
    "epochs = 15\n",
    "IMG_HEIGHT = 150\n",
    "IMG_WIDTH = 150"
   ]
  },
  {
   "cell_type": "code",
   "execution_count": null,
   "metadata": {},
   "outputs": [],
   "source": [
    "train_data_gen = train_image_generator.flow_from_directory(batch_size=batch_size,\n",
    "                                                           directory=train_dir,\n",
    "                                                           shuffle=True,\n",
    "                                                           target_size=(IMG_HEIGHT, IMG_WIDTH),\n",
    "                                                           class_mode='binary')"
   ]
  }
 ],
 "metadata": {
  "kernelspec": {
   "display_name": "Python 3",
   "language": "python",
   "name": "python3"
  },
  "language_info": {
   "codemirror_mode": {
    "name": "ipython",
    "version": 3
   },
   "file_extension": ".py",
   "mimetype": "text/x-python",
   "name": "python",
   "nbconvert_exporter": "python",
   "pygments_lexer": "ipython3",
   "version": "3.7.4"
  }
 },
 "nbformat": 4,
 "nbformat_minor": 2
}
