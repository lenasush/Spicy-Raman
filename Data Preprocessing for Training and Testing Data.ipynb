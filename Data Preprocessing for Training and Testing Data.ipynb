{
 "cells": [
  {
   "cell_type": "code",
   "execution_count": 89,
   "metadata": {},
   "outputs": [],
   "source": [
    "import numpy as np\n",
    "#import matplotlib.pyplot as plt\n",
    "%matplotlib agg\n",
    "import pandas as pd"
   ]
  },
  {
   "cell_type": "markdown",
   "metadata": {},
   "source": [
    "read all of the data in a file"
   ]
  },
  {
   "cell_type": "code",
   "execution_count": 92,
   "metadata": {
    "scrolled": true
   },
   "outputs": [
    {
     "name": "stdout",
     "output_type": "stream",
     "text": [
      "fluorescent\n",
      "Raman_Data/fluorescent/20191004 Set3Sample3_10a 1_.txt\n",
      "Raman_Data/fluorescent/20191004 Set3Sample3_12 5_.txt\n",
      "Raman_Data/fluorescent/20191004 Set7Sample6_10 0.txt\n",
      "Raman_Data/fluorescent/20191004 Set7Sample6_8 1_.txt\n",
      "Raman_Data/fluorescent/20191127 Set2Sample7a_1_.txt\n",
      "Raman_Data/fluorescent/20191127 Set2Sample7b_0.txt\n",
      "Raman_Data/fluorescent/20191127 Set2Sample7c_1_.txt\n",
      "Raman_Data/fluorescent/Set2Sample6_1 1_.txt\n",
      "Raman_Data/fluorescent/Set5Sample2_5 - 1_.txt\n",
      "Raman_Data/fluorescent/Set6Sample1_5 - 5_.txt\n",
      "nylon\n",
      "Raman_Data/nylon/20191120 Set2Sample5a-1_.txt\n",
      "Raman_Data/nylon/20191120 Set2Sample5b-1_.txt\n",
      "Raman_Data/nylon/20191120 Set2Sample5c-1_.txt\n",
      "Raman_Data/nylon/20191120 Set2Sample5e-1_.txt\n",
      "Raman_Data/nylon/Set1Sample2_10 - 1_.txt\n",
      "Raman_Data/nylon/Set1Sample2_19 - 1_.txt\n",
      "Raman_Data/nylon/Set1Sample2_3 - 1_.txt\n",
      "Raman_Data/nylon/Set1Sample2_7(dark_spot) - 1_.txt\n",
      "Raman_Data/nylon/Set1Sample2_7(light_spot) - 1_.txt\n",
      "Raman_Data/nylon/Set2Sample6_1 - 1_.txt\n",
      "polyamide\n",
      "Raman_Data/polyamide/20191127 Set2Sample7d_1_.txt\n",
      "Raman_Data/polyamide/20191127 Set2Sample7t_1_.txt\n",
      "Raman_Data/polyamide/20191127 Set2Sample7v_1_.txt\n",
      "Raman_Data/polyamide/Set10Sample6_5 - 1_.txt\n",
      "Raman_Data/polyamide/Set1Sample2_8 - 1_.txt\n",
      "Raman_Data/polyamide/Set1Sample2_9 - 1_.txt\n",
      "Raman_Data/polyamide/Set2Sample6_2 - 1_.txt\n",
      "Raman_Data/polyamide/Set2Sample6_3 - 1_.txt\n",
      "Raman_Data/polyamide/Set5Sample2_4 - 5_.txt\n",
      "polyethylene\n",
      "Raman_Data/polyethylene/20191004 Set3Sample3_11 5_.txt\n",
      "Raman_Data/polyethylene/20191004 Set3Sample3_4 5_.txt\n",
      "Raman_Data/polyethylene/20191004 Set3Sample3_5 5_.txt\n",
      "Raman_Data/polyethylene/20191004 Set3Sample3_6 5_.txt\n",
      "Raman_Data/polyethylene/20191004 Set3Sample3_7 5_.txt\n",
      "Raman_Data/polyethylene/20191004 Set3Sample3_8 5_.txt\n",
      "Raman_Data/polyethylene/20191004 Set3Sample3_9 5_.txt\n",
      "Raman_Data/polyethylene/Set5Sample2_1 - 5_.txt\n",
      "Raman_Data/polyethylene/Set5Sample2_2 - 5_.txt\n",
      "Raman_Data/polyethylene/Set5Sample2_3 - 5_.txt\n",
      "Raman_Data/polyethylene/Set7Sample6_1 - 5_.txt\n",
      "unknown\n",
      "Raman_Data/unknown/20191004 Set3Sample3_2 1_.txt\n",
      "Raman_Data/unknown/20191004 Set7Sample6_1 5_.txt\n"
     ]
    }
   ],
   "source": [
    "import os\n",
    "os.listdir()\n",
    "with os.scandir('Raman_Data') as entries:\n",
    "    for entry in entries:\n",
    "        foldername = entry.name\n",
    "        print(foldername)\n",
    "        with os.scandir('Raman_Data/' + foldername) as entries:\n",
    "            for entry in entries:\n",
    "                filename = entry.name\n",
    "                data = pd.read_csv('Raman_Data/' + foldername + '/' + filename)\n",
    "                print('Raman_Data/' + foldername + '/' + filename)"
   ]
  },
  {
   "cell_type": "code",
   "execution_count": 111,
   "metadata": {
    "scrolled": true
   },
   "outputs": [
    {
     "data": {
      "text/plain": [
       "0         534.833\n",
       "1         458.961\n",
       "2         555.722\n",
       "3         555.638\n",
       "4         568.180\n",
       "          ...    \n",
       "3776    34575.700\n",
       "3777    33397.600\n",
       "3778    32571.800\n",
       "3779    31078.500\n",
       "3780    30456.000\n",
       "Name: 471.664, Length: 3781, dtype: float64"
      ]
     },
     "execution_count": 111,
     "metadata": {},
     "output_type": "execute_result"
    }
   ],
   "source": [
    "data = pd.read_csv('Raman_Data/fluorescent/20191004 Set3Sample3_10a 1_.txt',sep='\\s+')\n",
    "data.head()\n",
    "data.iloc[:,1]"
   ]
  },
  {
   "cell_type": "markdown",
   "metadata": {},
   "source": [
    "Graph and save the data for each file"
   ]
  },
  {
   "cell_type": "code",
   "execution_count": 125,
   "metadata": {},
   "outputs": [],
   "source": [
    "def graph_and_save (data):\n",
    "    #y = [2,4,6,8,10,12,14,16,18,20]\n",
    "    y = data.iloc[:,1]\n",
    "    #x = np.arange(10)\n",
    "    x = data.iloc[:,0]\n",
    "    fig = plt.figure()\n",
    "    ax = plt.subplot(111)\n",
    "    ax.plot(x, y, label='$y = numbers')\n",
    "    ax.legend()\n",
    "    fig.savefig('plot.png')"
   ]
  },
  {
   "cell_type": "code",
   "execution_count": 126,
   "metadata": {},
   "outputs": [],
   "source": [
    "graph_and_save(data)"
   ]
  },
  {
   "cell_type": "code",
   "execution_count": null,
   "metadata": {},
   "outputs": [],
   "source": []
  }
 ],
 "metadata": {
  "kernelspec": {
   "display_name": "Python 3",
   "language": "python",
   "name": "python3"
  },
  "language_info": {
   "codemirror_mode": {
    "name": "ipython",
    "version": 3
   },
   "file_extension": ".py",
   "mimetype": "text/x-python",
   "name": "python",
   "nbconvert_exporter": "python",
   "pygments_lexer": "ipython3",
   "version": "3.7.6"
  }
 },
 "nbformat": 4,
 "nbformat_minor": 2
}
