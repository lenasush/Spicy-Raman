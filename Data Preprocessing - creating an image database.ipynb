{
 "cells": [
  {
   "cell_type": "code",
   "execution_count": 89,
   "metadata": {},
   "outputs": [],
   "source": [
    "import numpy as np\n",
    "#import matplotlib.pyplot as plt\n",
    "%matplotlib agg\n",
    "import pandas as pd"
   ]
  },
  {
   "cell_type": "markdown",
   "metadata": {},
   "source": [
    "read all of the data in a file"
   ]
  },
  {
   "cell_type": "code",
   "execution_count": 137,
   "metadata": {
    "scrolled": true
   },
   "outputs": [
    {
     "name": "stdout",
     "output_type": "stream",
     "text": [
      "fluorescent\n",
      "nylon\n",
      "polyamide\n",
      "polyethylene\n",
      "unknown\n"
     ]
    }
   ],
   "source": [
    "import os\n",
    "os.listdir()\n",
    "with os.scandir('Raman_Data') as entries:\n",
    "    for entry in entries:\n",
    "        foldername = entry.name\n",
    "        print(foldername)\n",
    "        with os.scandir('Raman_Data/' + foldername) as entries:\n",
    "            for entry in entries:\n",
    "                filename = entry.name\n",
    "                data = pd.read_csv('Raman_Data/' + foldername + '/' + filename , sep='\\s+')\n",
    "                name = filename + \"_image.png\"\n",
    "                graph_and_save(data, name)"
   ]
  },
  {
   "cell_type": "markdown",
   "metadata": {},
   "source": [
    "Graph and save the data for each file"
   ]
  },
  {
   "cell_type": "code",
   "execution_count": 136,
   "metadata": {},
   "outputs": [],
   "source": [
    "def graph_and_save (data, name):\n",
    "    #y = [2,4,6,8,10,12,14,16,18,20]\n",
    "    y = data.iloc[:,1]\n",
    "    #x = np.arange(10)\n",
    "    x = data.iloc[:,0]\n",
    "    fig = plt.figure()\n",
    "    ax = plt.subplot(111)\n",
    "    ax.plot(x, y, label='$y = numbers')\n",
    "    ax.legend()\n",
    "    fig.savefig(name)\n",
    "    plt.close('all')"
   ]
  },
  {
   "cell_type": "code",
   "execution_count": 126,
   "metadata": {},
   "outputs": [],
   "source": [
    "graph_and_save(data)"
   ]
  },
  {
   "cell_type": "code",
   "execution_count": null,
   "metadata": {},
   "outputs": [],
   "source": []
  }
 ],
 "metadata": {
  "kernelspec": {
   "display_name": "Python 3",
   "language": "python",
   "name": "python3"
  },
  "language_info": {
   "codemirror_mode": {
    "name": "ipython",
    "version": 3
   },
   "file_extension": ".py",
   "mimetype": "text/x-python",
   "name": "python",
   "nbconvert_exporter": "python",
   "pygments_lexer": "ipython3",
   "version": "3.7.6"
  }
 },
 "nbformat": 4,
 "nbformat_minor": 2
}
