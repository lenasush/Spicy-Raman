{
 "cells": [
  {
   "cell_type": "code",
   "execution_count": 1,
   "metadata": {},
   "outputs": [
    {
     "name": "stderr",
     "output_type": "stream",
     "text": [
      "Using TensorFlow backend.\n"
     ]
    }
   ],
   "source": [
    "from py_files import preprocessing as pp\n",
    "from py_files import Augmentation as ag\n",
    "from py_files import pic_class as pc\n",
    "from py_files import TrainTestSplit as ts\n",
    "import tensorflow as tf\n",
    "from tensorflow import keras\n",
    "import numpy as np\n",
    "import pandas as pd\n",
    "import matplotlib.pyplot as plt\n",
    "%matplotlib agg\n",
    "from tensorflow.keras.models import Sequential\n",
    "from tensorflow.keras.layers import Dense, Conv2D, Flatten, Dropout, MaxPooling2D\n",
    "from tensorflow.keras.preprocessing.image import ImageDataGenerator\n",
    "import zipfile\n",
    "import os"
   ]
  },
  {
   "cell_type": "code",
   "execution_count": 10,
   "metadata": {},
   "outputs": [
    {
     "data": {
      "text/plain": [
       "'/mnt/c/Users/nozom/desktop/Spicy-Raman/model_train_and_validate'"
      ]
     },
     "execution_count": 10,
     "metadata": {},
     "output_type": "execute_result"
    }
   ],
   "source": [
    "source = os.getcwd()\n",
    "source"
   ]
  },
  {
   "cell_type": "markdown",
   "metadata": {},
   "source": [
    "## Data Importing"
   ]
  },
  {
   "cell_type": "code",
   "execution_count": 11,
   "metadata": {},
   "outputs": [],
   "source": [
    "train_dir = os.path.join(source, 'trainingdata_Pictures')\n",
    "validation_dir = os.path.join(source, 'validationdata_Pictures')"
   ]
  },
  {
   "cell_type": "markdown",
   "metadata": {},
   "source": [
    "## Data Information"
   ]
  },
  {
   "cell_type": "code",
   "execution_count": 12,
   "metadata": {},
   "outputs": [
    {
     "name": "stdout",
     "output_type": "stream",
     "text": [
      "Total training images: 463\n",
      "Total validation images: 122\n"
     ]
    }
   ],
   "source": [
    "train_fluorescent_dir = os.path.join(train_dir, 'fluorescent_Pictures')\n",
    "train_nylon_dir = os.path.join(train_dir, 'nylon_Pictures')\n",
    "train_polyamide_dir = os.path.join(train_dir, 'polyamide_Pictures')\n",
    "train_polyethylene_dir = os.path.join(train_dir, 'polyethylene_Pictures')\n",
    "train_others_dir = os.path.join(train_dir, 'others_Pictures')\n",
    "\n",
    "validation_fluorescent_dir = os.path.join(validation_dir, 'fluorescent_Pictures')\n",
    "validation_nylon_dir = os.path.join(validation_dir, 'nylon_Pictures')\n",
    "validation_polyamide_dir = os.path.join(validation_dir, 'polyamide_Pictures')\n",
    "validation_polyethylene_dir = os.path.join(validation_dir, 'polyethylene_Pictures')\n",
    "validation_others_dir = os.path.join(validation_dir, 'others_Pictures')\n",
    "\n",
    "num_fluorescent_tr = len(os.listdir(train_fluorescent_dir))\n",
    "num_nylon_tr = len(os.listdir(train_nylon_dir))\n",
    "num_polyamide_tr = len(os.listdir(train_polyamide_dir))\n",
    "num_polyethylene_tr = len(os.listdir(train_polyethylene_dir))\n",
    "num_others_tr = len(os.listdir(train_others_dir))\n",
    "\n",
    "num_fluorescent_val = len(os.listdir(validation_fluorescent_dir))\n",
    "num_nylon_val = len(os.listdir(validation_nylon_dir))\n",
    "num_polyamide_val = len(os.listdir(validation_polyamide_dir))\n",
    "num_polyethylene_val = len(os.listdir(validation_polyethylene_dir))\n",
    "num_others_val = len(os.listdir(validation_others_dir))\n",
    "\n",
    "\n",
    "#num_cats_val = len(os.listdir(validation_cats_dir))\n",
    "#num_dogs_val = len(os.listdir(validation_dogs_dir))\n",
    "\n",
    "total_train = num_fluorescent_tr + num_polyamide_tr + num_nylon_tr + num_polyethylene_tr + num_others_tr\n",
    "total_val = num_fluorescent_val + num_polyamide_val + num_nylon_val + num_polyethylene_val + num_others_val\n",
    "\n",
    "#validation_cats_dir = os.path.join(validation_dir, 'cats')\n",
    "#validation_dogs_dir = os.path.join(validation_dir, 'dogs')\n",
    "print(\"Total training images:\", total_train)\n",
    "print(\"Total validation images:\", total_val)"
   ]
  },
  {
   "cell_type": "markdown",
   "metadata": {},
   "source": [
    "## Data Training"
   ]
  },
  {
   "cell_type": "code",
   "execution_count": 17,
   "metadata": {},
   "outputs": [],
   "source": [
    "batch_size = 128\n",
    "epochs = 15\n",
    "IMG_HEIGHT = 150\n",
    "IMG_WIDTH = 150"
   ]
  },
  {
   "cell_type": "code",
   "execution_count": 18,
   "metadata": {},
   "outputs": [],
   "source": [
    "train_image_generator = ImageDataGenerator(rescale=1./255) \n",
    "validation_image_generator = ImageDataGenerator(rescale=1./255)"
   ]
  },
  {
   "cell_type": "code",
   "execution_count": 19,
   "metadata": {},
   "outputs": [
    {
     "name": "stdout",
     "output_type": "stream",
     "text": [
      "Found 463 images belonging to 5 classes.\n"
     ]
    }
   ],
   "source": [
    "train_data_gen = train_image_generator.flow_from_directory(batch_size=batch_size,\n",
    "                                                           directory=train_dir,\n",
    "                                                           shuffle=True,\n",
    "                                                           target_size=(IMG_HEIGHT, IMG_WIDTH),\n",
    "                                                           class_mode='binary')"
   ]
  },
  {
   "cell_type": "code",
   "execution_count": 20,
   "metadata": {},
   "outputs": [
    {
     "name": "stdout",
     "output_type": "stream",
     "text": [
      "Found 122 images belonging to 5 classes.\n"
     ]
    }
   ],
   "source": [
    "val_data_gen = validation_image_generator.flow_from_directory(batch_size=batch_size,\n",
    "                                                              directory=validation_dir,\n",
    "                                                              target_size=(IMG_HEIGHT, IMG_WIDTH),\n",
    "                                                              class_mode='binary')"
   ]
  },
  {
   "cell_type": "code",
   "execution_count": 21,
   "metadata": {},
   "outputs": [],
   "source": [
    "sample_training_images, _ = next(train_data_gen)"
   ]
  },
  {
   "cell_type": "code",
   "execution_count": 22,
   "metadata": {},
   "outputs": [],
   "source": [
    "def plotImages(images_arr):\n",
    "    fig, axes = plt.subplots(1, 5, figsize=(20,20))\n",
    "    axes = axes.flatten()\n",
    "    for img, ax in zip( images_arr, axes):\n",
    "        ax.imshow(img)\n",
    "        ax.axis('off')\n",
    "    plt.tight_layout()\n",
    "    plt.show()"
   ]
  },
  {
   "cell_type": "code",
   "execution_count": 23,
   "metadata": {},
   "outputs": [],
   "source": [
    "plotImages(sample_training_images[:5])"
   ]
  },
  {
   "cell_type": "code",
   "execution_count": 24,
   "metadata": {},
   "outputs": [],
   "source": [
    "model = Sequential([\n",
    "    Conv2D(16, 3, padding='same', activation='relu', input_shape=(IMG_HEIGHT, IMG_WIDTH ,3)),\n",
    "    MaxPooling2D(),\n",
    "    Conv2D(32, 3, padding='same', activation='relu'),\n",
    "    MaxPooling2D(),\n",
    "    Conv2D(64, 3, padding='same', activation='relu'),\n",
    "    MaxPooling2D(),\n",
    "    Flatten(),\n",
    "    Dense(512, activation='relu'),\n",
    "    Dense(1)\n",
    "])"
   ]
  },
  {
   "cell_type": "code",
   "execution_count": 25,
   "metadata": {},
   "outputs": [],
   "source": [
    "model.compile(optimizer='adam',\n",
    "              loss=tf.keras.losses.BinaryCrossentropy(from_logits=True),\n",
    "              metrics=['accuracy'])"
   ]
  },
  {
   "cell_type": "code",
   "execution_count": 26,
   "metadata": {},
   "outputs": [
    {
     "name": "stdout",
     "output_type": "stream",
     "text": [
      "Model: \"sequential\"\n",
      "_________________________________________________________________\n",
      "Layer (type)                 Output Shape              Param #   \n",
      "=================================================================\n",
      "conv2d (Conv2D)              (None, 150, 150, 16)      448       \n",
      "_________________________________________________________________\n",
      "max_pooling2d (MaxPooling2D) (None, 75, 75, 16)        0         \n",
      "_________________________________________________________________\n",
      "conv2d_1 (Conv2D)            (None, 75, 75, 32)        4640      \n",
      "_________________________________________________________________\n",
      "max_pooling2d_1 (MaxPooling2 (None, 37, 37, 32)        0         \n",
      "_________________________________________________________________\n",
      "conv2d_2 (Conv2D)            (None, 37, 37, 64)        18496     \n",
      "_________________________________________________________________\n",
      "max_pooling2d_2 (MaxPooling2 (None, 18, 18, 64)        0         \n",
      "_________________________________________________________________\n",
      "flatten (Flatten)            (None, 20736)             0         \n",
      "_________________________________________________________________\n",
      "dense (Dense)                (None, 512)               10617344  \n",
      "_________________________________________________________________\n",
      "dense_1 (Dense)              (None, 1)                 513       \n",
      "=================================================================\n",
      "Total params: 10,641,441\n",
      "Trainable params: 10,641,441\n",
      "Non-trainable params: 0\n",
      "_________________________________________________________________\n"
     ]
    }
   ],
   "source": [
    "model.summary()"
   ]
  },
  {
   "cell_type": "code",
   "execution_count": null,
   "metadata": {},
   "outputs": [
    {
     "name": "stdout",
     "output_type": "stream",
     "text": [
      "WARNING:tensorflow:From <ipython-input-27-01c6f78f4d4f>:6: Model.fit_generator (from tensorflow.python.keras.engine.training) is deprecated and will be removed in a future version.\n",
      "Instructions for updating:\n",
      "Please use Model.fit, which supports generators.\n",
      "WARNING:tensorflow:sample_weight modes were coerced from\n",
      "  ...\n",
      "    to  \n",
      "  ['...']\n",
      "WARNING:tensorflow:sample_weight modes were coerced from\n",
      "  ...\n",
      "    to  \n",
      "  ['...']\n",
      "Train for 3 steps, validate for 1 steps\n",
      "Epoch 1/15\n",
      "3/3 [==============================] - 11s 4s/step - loss: -17.3835 - accuracy: 0.1552 - val_loss: -78.3181 - val_accuracy: 0.1393\n",
      "Epoch 2/15\n",
      "3/3 [==============================] - 8s 3s/step - loss: -145.7600 - accuracy: 0.1522 - val_loss: -385.6600 - val_accuracy: 0.1393\n",
      "Epoch 3/15\n",
      "3/3 [==============================] - 9s 3s/step - loss: -625.3279 - accuracy: 0.1667 - val_loss: -1278.0463 - val_accuracy: 0.1393\n",
      "Epoch 4/15\n",
      "3/3 [==============================] - 9s 3s/step - loss: -1755.7723 - accuracy: 0.1672 - val_loss: -3471.0845 - val_accuracy: 0.1393\n",
      "Epoch 5/15\n",
      "3/3 [==============================] - 9s 3s/step - loss: -4519.2677 - accuracy: 0.1672 - val_loss: -8275.7607 - val_accuracy: 0.1393\n",
      "Epoch 6/15\n",
      "3/3 [==============================] - 9s 3s/step - loss: -11188.7791 - accuracy: 0.1522 - val_loss: -17875.0137 - val_accuracy: 0.1393\n",
      "Epoch 7/15\n",
      "3/3 [==============================] - 7s 2s/step - loss: -22856.5211 - accuracy: 0.1522 - val_loss: -35815.7188 - val_accuracy: 0.1393\n",
      "Epoch 8/15\n",
      "3/3 [==============================] - 7s 2s/step - loss: -42150.0899 - accuracy: 0.1672 - val_loss: -68157.8281 - val_accuracy: 0.1393\n",
      "Epoch 9/15\n",
      "2/3 [===================>..........] - ETA: 2s - loss: -69138.9375 - accuracy: 0.1836"
     ]
    }
   ],
   "source": [
    "history = model.fit_generator(\n",
    "    train_data_gen,\n",
    "    steps_per_epoch=total_train // batch_size,\n",
    "    epochs=epochs,\n",
    "    validation_data=val_data_gen,\n",
    "    validation_steps=total_val // batch_size\n",
    ")"
   ]
  },
  {
   "cell_type": "code",
   "execution_count": null,
   "metadata": {},
   "outputs": [],
   "source": [
    "acc = history.history['accuracy']\n",
    "val_acc = history.history['val_accuracy']\n",
    "\n",
    "loss=history.history['loss']\n",
    "val_loss=history.history['val_loss']\n",
    "\n",
    "epochs_range = range(epochs)\n",
    "\n",
    "plt.figure(figsize=(8, 8))\n",
    "plt.subplot(1, 2, 1)\n",
    "plt.plot(epochs_range, acc, label='Training Accuracy')\n",
    "plt.plot(epochs_range, val_acc, label='Validation Accuracy')\n",
    "plt.legend(loc='lower right')\n",
    "plt.title('Training and Validation Accuracy')\n",
    "\n",
    "plt.subplot(1, 2, 2)\n",
    "plt.plot(epochs_range, loss, label='Training Loss')\n",
    "plt.plot(epochs_range, val_loss, label='Validation Loss')\n",
    "plt.legend(loc='upper right')\n",
    "plt.title('Training and Validation Loss')\n",
    "plt.show()"
   ]
  },
  {
   "cell_type": "code",
   "execution_count": null,
   "metadata": {},
   "outputs": [],
   "source": [
    "model.save(\"Spicy_Raman_Saved_Model\")\n",
    "zipfile.ZipFile(\"Spicy_Raman_Saved_Model.zip\", mode='w').write(\"Spicy_Raman_Saved_Model.h5\", compress_type=zipfile.ZIP_DEFLATED)"
   ]
  },
  {
   "cell_type": "code",
   "execution_count": null,
   "metadata": {},
   "outputs": [],
   "source": [
    "class_names = ['Polyethylene', 'Fluorescent', 'Polyamide', 'Nylon', 'Unknown']\n",
    "train_images = train_images/255.0\n",
    "test_images = test_images/255.0"
   ]
  },
  {
   "cell_type": "code",
   "execution_count": null,
   "metadata": {},
   "outputs": [],
   "source": [
    "model = keras.Sequential([\n",
    "    keras.layers.Flatten(input_shape = (28,28)),\n",
    "    keras.layers.Dense(128, activation = \"relu\"),\n",
    "    keras.layers.Dense(10, activation = \"softmax\")\n",
    "    ])\n",
    "\n",
    "model.compile(optimizer = \"adam\", loss = \"sparse_categorical_crossentropy\", metrics = [\"accuracy\"])"
   ]
  }
 ],
 "metadata": {
  "kernelspec": {
   "display_name": "Python 3",
   "language": "python",
   "name": "python3"
  },
  "language_info": {
   "codemirror_mode": {
    "name": "ipython",
    "version": 3
   },
   "file_extension": ".py",
   "mimetype": "text/x-python",
   "name": "python",
   "nbconvert_exporter": "python",
   "pygments_lexer": "ipython3",
   "version": "3.7.6"
  }
 },
 "nbformat": 4,
 "nbformat_minor": 2
}
