{
 "cells": [
  {
   "cell_type": "code",
   "execution_count": 89,
   "metadata": {},
   "outputs": [],
   "source": [
    "import numpy as np\n",
    "#import matplotlib.pyplot as plt\n",
    "%matplotlib agg\n",
<<<<<<< HEAD
<<<<<<< HEAD
    "import pandas as pd"
=======
    "import pandas as pd\n",
    "import os"
>>>>>>> 97d01aa040d9ac37c5841ba0d503fdad78df5ae9
=======
    "import pandas as pd\n",
    "import os"
>>>>>>> f663ecbcb288d10e832a7ef3f959185791f53919
   ]
  },
  {
   "cell_type": "markdown",
   "metadata": {},
   "source": [
    "Graph and save the data for each .txt file as a .png file"
   ]
  },
  {
   "cell_type": "code",
<<<<<<< HEAD
<<<<<<< HEAD
   "execution_count": 164,
=======
   "execution_count": 168,
>>>>>>> 97d01aa040d9ac37c5841ba0d503fdad78df5ae9
=======
   "execution_count": 168,
>>>>>>> f663ecbcb288d10e832a7ef3f959185791f53919
   "metadata": {},
   "outputs": [],
   "source": [
    "def graph_and_save (data, name):\n",
    "    y = data.iloc[:,1]\n",
    "    x = data.iloc[:,0]\n",
    "    fig = plt.figure()\n",
    "    ax = plt.subplot(111)\n",
    "    ax.plot(x, y, label='$y = numbers')\n",
    "    ax.legend()\n",
    "    fig.savefig('Pre_Augmented_Raman_Pictures/' + name)\n",
<<<<<<< HEAD
<<<<<<< HEAD
=======
    "    #print(type(fig))\n",
>>>>>>> 97d01aa040d9ac37c5841ba0d503fdad78df5ae9
=======
    "    #print(type(fig))\n",
>>>>>>> f663ecbcb288d10e832a7ef3f959185791f53919
    "    plt.close('all')"
   ]
  },
  {
   "cell_type": "markdown",
   "metadata": {},
   "source": [
    "This block will read all of the training/testing data in a file and store the resulting images into the folder \"Pre_Augmented_Raman_Pictures\". "
   ]
  },
  {
   "cell_type": "code",
<<<<<<< HEAD
<<<<<<< HEAD
   "execution_count": 165,
=======
   "execution_count": 167,
>>>>>>> 97d01aa040d9ac37c5841ba0d503fdad78df5ae9
=======
   "execution_count": 167,
>>>>>>> f663ecbcb288d10e832a7ef3f959185791f53919
   "metadata": {
    "scrolled": true
   },
   "outputs": [
    {
     "name": "stdout",
     "output_type": "stream",
     "text": [
      "fluorescent\n",
<<<<<<< HEAD
<<<<<<< HEAD
=======
      "<class 'matplotlib.figure.Figure'>\n",
      "<class 'matplotlib.figure.Figure'>\n",
      "<class 'matplotlib.figure.Figure'>\n",
      "<class 'matplotlib.figure.Figure'>\n",
      "<class 'matplotlib.figure.Figure'>\n",
      "<class 'matplotlib.figure.Figure'>\n",
      "<class 'matplotlib.figure.Figure'>\n",
      "<class 'matplotlib.figure.Figure'>\n",
      "<class 'matplotlib.figure.Figure'>\n",
      "<class 'matplotlib.figure.Figure'>\n",
>>>>>>> f663ecbcb288d10e832a7ef3f959185791f53919
      "nylon\n",
      "<class 'matplotlib.figure.Figure'>\n",
      "<class 'matplotlib.figure.Figure'>\n",
      "<class 'matplotlib.figure.Figure'>\n",
      "<class 'matplotlib.figure.Figure'>\n",
      "<class 'matplotlib.figure.Figure'>\n",
      "<class 'matplotlib.figure.Figure'>\n",
      "<class 'matplotlib.figure.Figure'>\n",
      "<class 'matplotlib.figure.Figure'>\n",
      "<class 'matplotlib.figure.Figure'>\n",
      "<class 'matplotlib.figure.Figure'>\n",
      "polyamide\n",
      "<class 'matplotlib.figure.Figure'>\n",
      "<class 'matplotlib.figure.Figure'>\n",
      "<class 'matplotlib.figure.Figure'>\n",
      "<class 'matplotlib.figure.Figure'>\n",
      "<class 'matplotlib.figure.Figure'>\n",
      "<class 'matplotlib.figure.Figure'>\n",
      "<class 'matplotlib.figure.Figure'>\n",
      "<class 'matplotlib.figure.Figure'>\n",
      "<class 'matplotlib.figure.Figure'>\n",
      "polyethylene\n",
<<<<<<< HEAD
      "unknown\n"
=======
      "<class 'matplotlib.figure.Figure'>\n",
      "<class 'matplotlib.figure.Figure'>\n",
      "<class 'matplotlib.figure.Figure'>\n",
      "<class 'matplotlib.figure.Figure'>\n",
      "<class 'matplotlib.figure.Figure'>\n",
      "<class 'matplotlib.figure.Figure'>\n",
      "<class 'matplotlib.figure.Figure'>\n",
      "<class 'matplotlib.figure.Figure'>\n",
      "<class 'matplotlib.figure.Figure'>\n",
      "<class 'matplotlib.figure.Figure'>\n",
      "nylon\n",
      "<class 'matplotlib.figure.Figure'>\n",
      "<class 'matplotlib.figure.Figure'>\n",
      "<class 'matplotlib.figure.Figure'>\n",
      "<class 'matplotlib.figure.Figure'>\n",
      "<class 'matplotlib.figure.Figure'>\n",
      "<class 'matplotlib.figure.Figure'>\n",
      "<class 'matplotlib.figure.Figure'>\n",
      "<class 'matplotlib.figure.Figure'>\n",
      "<class 'matplotlib.figure.Figure'>\n",
      "<class 'matplotlib.figure.Figure'>\n",
      "polyamide\n",
      "<class 'matplotlib.figure.Figure'>\n",
      "<class 'matplotlib.figure.Figure'>\n",
      "<class 'matplotlib.figure.Figure'>\n",
      "<class 'matplotlib.figure.Figure'>\n",
      "<class 'matplotlib.figure.Figure'>\n",
      "<class 'matplotlib.figure.Figure'>\n",
      "<class 'matplotlib.figure.Figure'>\n",
      "<class 'matplotlib.figure.Figure'>\n",
      "<class 'matplotlib.figure.Figure'>\n",
      "polyethylene\n",
=======
>>>>>>> f663ecbcb288d10e832a7ef3f959185791f53919
      "<class 'matplotlib.figure.Figure'>\n",
      "<class 'matplotlib.figure.Figure'>\n",
      "<class 'matplotlib.figure.Figure'>\n",
      "<class 'matplotlib.figure.Figure'>\n",
      "<class 'matplotlib.figure.Figure'>\n",
      "<class 'matplotlib.figure.Figure'>\n",
      "<class 'matplotlib.figure.Figure'>\n",
      "<class 'matplotlib.figure.Figure'>\n",
      "<class 'matplotlib.figure.Figure'>\n",
      "<class 'matplotlib.figure.Figure'>\n",
      "<class 'matplotlib.figure.Figure'>\n",
      "unknown\n",
      "<class 'matplotlib.figure.Figure'>\n",
      "<class 'matplotlib.figure.Figure'>\n"
<<<<<<< HEAD
>>>>>>> 97d01aa040d9ac37c5841ba0d503fdad78df5ae9
=======
>>>>>>> f663ecbcb288d10e832a7ef3f959185791f53919
     ]
    }
   ],
   "source": [
<<<<<<< HEAD
<<<<<<< HEAD
    "import os\n",
=======
>>>>>>> 97d01aa040d9ac37c5841ba0d503fdad78df5ae9
=======
>>>>>>> f663ecbcb288d10e832a7ef3f959185791f53919
    "os.listdir()\n",
    "with os.scandir('Raman_Data') as entries:\n",
    "    for entry in entries:\n",
    "        foldername = entry.name\n",
    "        print(foldername)\n",
    "        with os.scandir('Raman_Data/' + foldername) as entries:\n",
    "            for entry in entries:\n",
    "                filename = entry.name\n",
    "                data = pd.read_csv('Raman_Data/' + foldername + '/' + filename , sep='\\s+')\n",
    "                name = filename + \"_\" + foldername + \".png\"\n",
    "                graph_and_save(data, name)"
   ]
  },
  {
<<<<<<< HEAD
<<<<<<< HEAD
   "cell_type": "markdown",
   "metadata": {},
   "source": [
    "Augmentation: The datapoints for training are too few right now so we will follow \"How to Configure Image Data Augmentation in Keras\" by Jason Brownlee to augment the dataset. "
   ]
  },
  {
=======
>>>>>>> 97d01aa040d9ac37c5841ba0d503fdad78df5ae9
=======
>>>>>>> f663ecbcb288d10e832a7ef3f959185791f53919
   "cell_type": "code",
   "execution_count": null,
   "metadata": {},
   "outputs": [],
   "source": []
  }
 ],
 "metadata": {
  "kernelspec": {
   "display_name": "Python 3",
   "language": "python",
   "name": "python3"
  },
  "language_info": {
   "codemirror_mode": {
    "name": "ipython",
    "version": 3
   },
   "file_extension": ".py",
   "mimetype": "text/x-python",
   "name": "python",
   "nbconvert_exporter": "python",
   "pygments_lexer": "ipython3",
<<<<<<< HEAD
   "version": "3.7.4"
  },
  "toc": {
   "base_numbering": 1,
   "nav_menu": {},
   "number_sections": true,
   "sideBar": true,
   "skip_h1_title": false,
   "title_cell": "Table of Contents",
   "title_sidebar": "Contents",
   "toc_cell": false,
   "toc_position": {},
   "toc_section_display": true,
   "toc_window_display": false
  },
  "varInspector": {
   "cols": {
    "lenName": 16,
    "lenType": 16,
    "lenVar": 40
   },
   "kernels_config": {
    "python": {
     "delete_cmd_postfix": "",
     "delete_cmd_prefix": "del ",
     "library": "var_list.py",
     "varRefreshCmd": "print(var_dic_list())"
    },
    "r": {
     "delete_cmd_postfix": ") ",
     "delete_cmd_prefix": "rm(",
     "library": "var_list.r",
     "varRefreshCmd": "cat(var_dic_list()) "
    }
   },
   "types_to_exclude": [
    "module",
    "function",
    "builtin_function_or_method",
    "instance",
    "_Feature"
   ],
   "window_display": false
=======
   "version": "3.7.6"
>>>>>>> 97d01aa040d9ac37c5841ba0d503fdad78df5ae9
  }
 },
 "nbformat": 4,
 "nbformat_minor": 2
}
