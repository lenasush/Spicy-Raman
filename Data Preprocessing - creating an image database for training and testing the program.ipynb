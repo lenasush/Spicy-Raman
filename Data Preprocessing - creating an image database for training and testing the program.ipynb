{
 "cells": [
  {
   "cell_type": "code",
   "execution_count": 4,
   "metadata": {},
   "outputs": [],
   "source": [
    "import numpy as np\n",
    "#import matplotlib.pyplot as plt\n",
    "%matplotlib agg\n",
    "import pandas as pd\n",
    "import os"
   ]
  },
  {
   "cell_type": "markdown",
   "metadata": {},
   "source": [
    "Graph and save the data for each .txt file as a .png file"
   ]
  },
  {
   "cell_type": "code",
   "execution_count": 7,
   "metadata": {},
   "outputs": [],
   "source": [
    "def graph_and_save (data, name):\n",
    "    y = data.iloc[:,1]\n",
    "    x = data.iloc[:,0]\n",
    "    fig = plt.figure()\n",
    "    ax = plt.subplot(111)\n",
    "    ax.plot(x, y, label='$y = numbers')\n",
    "    ax.legend()\n",
    "    fig.savefig('Pre_Augmented_Raman_Pictures/' + name)\n",
    "    #print(type(fig))\n",
    "    plt.close('all')"
   ]
  },
  {
   "cell_type": "markdown",
   "metadata": {},
   "source": [
    "This block will read all of the training/testing data in a file and store the resulting images into the folder \"Pre_Augmented_Raman_Pictures\". "
   ]
  },
  {
   "cell_type": "code",
   "execution_count": 167,
   "metadata": {
    "scrolled": true
   },
   "outputs": [
    {
     "name": "stdout",
     "output_type": "stream",
     "text": [
      "fluorescent\n",
      "<class 'matplotlib.figure.Figure'>\n",
      "<class 'matplotlib.figure.Figure'>\n",
      "<class 'matplotlib.figure.Figure'>\n",
      "<class 'matplotlib.figure.Figure'>\n",
      "<class 'matplotlib.figure.Figure'>\n",
      "<class 'matplotlib.figure.Figure'>\n",
      "<class 'matplotlib.figure.Figure'>\n",
      "<class 'matplotlib.figure.Figure'>\n",
      "<class 'matplotlib.figure.Figure'>\n",
      "<class 'matplotlib.figure.Figure'>\n",
      "nylon\n",
      "<class 'matplotlib.figure.Figure'>\n",
      "<class 'matplotlib.figure.Figure'>\n",
      "<class 'matplotlib.figure.Figure'>\n",
      "<class 'matplotlib.figure.Figure'>\n",
      "<class 'matplotlib.figure.Figure'>\n",
      "<class 'matplotlib.figure.Figure'>\n",
      "<class 'matplotlib.figure.Figure'>\n",
      "<class 'matplotlib.figure.Figure'>\n",
      "<class 'matplotlib.figure.Figure'>\n",
      "<class 'matplotlib.figure.Figure'>\n",
      "polyamide\n",
      "<class 'matplotlib.figure.Figure'>\n",
      "<class 'matplotlib.figure.Figure'>\n",
      "<class 'matplotlib.figure.Figure'>\n",
      "<class 'matplotlib.figure.Figure'>\n",
      "<class 'matplotlib.figure.Figure'>\n",
      "<class 'matplotlib.figure.Figure'>\n",
      "<class 'matplotlib.figure.Figure'>\n",
      "<class 'matplotlib.figure.Figure'>\n",
      "<class 'matplotlib.figure.Figure'>\n",
      "polyethylene\n",
      "<class 'matplotlib.figure.Figure'>\n",
      "<class 'matplotlib.figure.Figure'>\n",
      "<class 'matplotlib.figure.Figure'>\n",
      "<class 'matplotlib.figure.Figure'>\n",
      "<class 'matplotlib.figure.Figure'>\n",
      "<class 'matplotlib.figure.Figure'>\n",
      "<class 'matplotlib.figure.Figure'>\n",
      "<class 'matplotlib.figure.Figure'>\n",
      "<class 'matplotlib.figure.Figure'>\n",
      "<class 'matplotlib.figure.Figure'>\n",
      "<class 'matplotlib.figure.Figure'>\n",
      "unknown\n",
      "<class 'matplotlib.figure.Figure'>\n",
      "<class 'matplotlib.figure.Figure'>\n"
     ]
    }
   ],
   "source": [
    "os.listdir()\n",
    "with os.scandir('Raman_Data') as entries:\n",
    "    for entry in entries:\n",
    "        foldername = entry.name\n",
    "        print(foldername)\n",
    "        with os.scandir('Raman_Data/' + foldername) as entries:\n",
    "            for entry in entries:\n",
    "                filename = entry.name\n",
    "                data = pd.read_csv('Raman_Data/' + foldername + '/' + filename , sep='\\s+')\n",
    "                name = filename + \"_\" + foldername + \".png\"\n",
    "                graph_and_save(data, name)"
   ]
  },
  {
   "cell_type": "code",
   "execution_count": 5,
   "metadata": {},
   "outputs": [],
   "source": [
    "def preprocessing(big_folder):\n",
    "    os.listdir()\n",
    "    with os.scandir(big_folder) as entries:\n",
    "        for entry in entries:\n",
    "            foldername = entry.name\n",
    "            print(foldername)\n",
    "            with os.scandir(big_folder + '/' + foldername) as entries:\n",
    "                for entry in entries:\n",
    "                    filename = entry.name\n",
    "                    data = pd.read_csv(big_folder + '/' + foldername + '/' + filename , sep='\\s+')\n",
    "                    name = filename + \"_\" + foldername + \".png\"\n",
    "                    graph_and_save(data, name)"
   ]
  },
  {
   "cell_type": "code",
   "execution_count": 6,
   "metadata": {},
   "outputs": [
    {
     "name": "stdout",
     "output_type": "stream",
     "text": [
      "fluorescent\n"
     ]
    },
    {
     "ename": "NameError",
     "evalue": "name 'graph_and_save' is not defined",
     "output_type": "error",
     "traceback": [
      "\u001b[0;31m---------------------------------------------------------------------------\u001b[0m",
      "\u001b[0;31mNameError\u001b[0m                                 Traceback (most recent call last)",
      "\u001b[0;32m<ipython-input-6-d90485a845c5>\u001b[0m in \u001b[0;36m<module>\u001b[0;34m\u001b[0m\n\u001b[0;32m----> 1\u001b[0;31m \u001b[0mpreprocessing\u001b[0m\u001b[0;34m(\u001b[0m\u001b[0;34m'Raman_Data'\u001b[0m\u001b[0;34m)\u001b[0m\u001b[0;34m\u001b[0m\u001b[0;34m\u001b[0m\u001b[0m\n\u001b[0m",
      "\u001b[0;32m<ipython-input-5-f8b781ded252>\u001b[0m in \u001b[0;36mpreprocessing\u001b[0;34m(big_folder)\u001b[0m\n\u001b[1;32m     10\u001b[0m                     \u001b[0mdata\u001b[0m \u001b[0;34m=\u001b[0m \u001b[0mpd\u001b[0m\u001b[0;34m.\u001b[0m\u001b[0mread_csv\u001b[0m\u001b[0;34m(\u001b[0m\u001b[0mbig_folder\u001b[0m \u001b[0;34m+\u001b[0m \u001b[0;34m'/'\u001b[0m \u001b[0;34m+\u001b[0m \u001b[0mfoldername\u001b[0m \u001b[0;34m+\u001b[0m \u001b[0;34m'/'\u001b[0m \u001b[0;34m+\u001b[0m \u001b[0mfilename\u001b[0m \u001b[0;34m,\u001b[0m \u001b[0msep\u001b[0m\u001b[0;34m=\u001b[0m\u001b[0;34m'\\s+'\u001b[0m\u001b[0;34m)\u001b[0m\u001b[0;34m\u001b[0m\u001b[0;34m\u001b[0m\u001b[0m\n\u001b[1;32m     11\u001b[0m                     \u001b[0mname\u001b[0m \u001b[0;34m=\u001b[0m \u001b[0mfilename\u001b[0m \u001b[0;34m+\u001b[0m \u001b[0;34m\"_\"\u001b[0m \u001b[0;34m+\u001b[0m \u001b[0mfoldername\u001b[0m \u001b[0;34m+\u001b[0m \u001b[0;34m\".png\"\u001b[0m\u001b[0;34m\u001b[0m\u001b[0;34m\u001b[0m\u001b[0m\n\u001b[0;32m---> 12\u001b[0;31m                     \u001b[0mgraph_and_save\u001b[0m\u001b[0;34m(\u001b[0m\u001b[0mdata\u001b[0m\u001b[0;34m,\u001b[0m \u001b[0mname\u001b[0m\u001b[0;34m)\u001b[0m\u001b[0;34m\u001b[0m\u001b[0;34m\u001b[0m\u001b[0m\n\u001b[0m",
      "\u001b[0;31mNameError\u001b[0m: name 'graph_and_save' is not defined"
     ]
    }
   ],
   "source": [
    "preprocessing('Raman_Data')"
   ]
  },
  {
   "cell_type": "code",
   "execution_count": null,
   "metadata": {},
   "outputs": [],
   "source": []
  }
 ],
 "metadata": {
  "kernelspec": {
   "display_name": "Python 3",
   "language": "python",
   "name": "python3"
  },
  "language_info": {
   "codemirror_mode": {
    "name": "ipython",
    "version": 3
   },
   "file_extension": ".py",
   "mimetype": "text/x-python",
   "name": "python",
   "nbconvert_exporter": "python",
   "pygments_lexer": "ipython3",
   "version": "3.7.6"
  }
 },
 "nbformat": 4,
 "nbformat_minor": 2
}
