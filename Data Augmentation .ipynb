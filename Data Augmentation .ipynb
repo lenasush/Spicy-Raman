{
 "cells": [
  {
   "cell_type": "markdown",
   "metadata": {},
   "source": [
    "Augmentation: The datapoints for training are too few right now so we will follow \"How to Configure Image Data Augmentation in Keras\" by Jason Brownlee to augment the dataset. "
   ]
  },
  {
   "cell_type": "code",
<<<<<<< HEAD
<<<<<<< HEAD
   "execution_count": 1,
=======
   "execution_count": 39,
>>>>>>> f663ecbcb288d10e832a7ef3f959185791f53919
   "metadata": {},
   "outputs": [],
   "source": [
<<<<<<< HEAD
    "# example of zoom image augmentation\n",
=======
   "execution_count": 39,
   "metadata": {},
   "outputs": [],
   "source": [
>>>>>>> 97d01aa040d9ac37c5841ba0d503fdad78df5ae9
=======
>>>>>>> f663ecbcb288d10e832a7ef3f959185791f53919
    "from numpy import expand_dims\n",
    "from keras.preprocessing.image import load_img\n",
    "from keras.preprocessing.image import img_to_array\n",
    "from keras.preprocessing.image import ImageDataGenerator\n",
    "from matplotlib import pyplot\n",
<<<<<<< HEAD
<<<<<<< HEAD
    "# load the image\n",
    "img = load_img('Pre_Augmented_Raman_Pictures/20191004 Set3Sample3_2 1_.txt_image.png')\n",
=======
    "from matplotlib import image\n",
    "%matplotlib agg\n",
    "import os"
   ]
  },
  {
   "cell_type": "code",
   "execution_count": 54,
   "metadata": {
    "scrolled": true
   },
   "outputs": [],
   "source": [
    "# load the image\n",
    "img = load_img('Pre_Augmented_Raman_Pictures/20191004 Set3Sample3_2 1_.txt_unknown.png')\n",
>>>>>>> 97d01aa040d9ac37c5841ba0d503fdad78df5ae9
=======
    "from matplotlib import image\n",
    "%matplotlib agg\n",
    "import os"
   ]
  },
  {
   "cell_type": "code",
   "execution_count": 54,
   "metadata": {
    "scrolled": true
   },
   "outputs": [],
   "source": [
    "# load the image\n",
    "img = load_img('Pre_Augmented_Raman_Pictures/20191004 Set3Sample3_2 1_.txt_unknown.png')\n",
>>>>>>> f663ecbcb288d10e832a7ef3f959185791f53919
    "# convert to numpy array\n",
    "data = img_to_array(img)\n",
    "# expand dimension to one sample\n",
    "samples = expand_dims(data, 0)\n",
    "# create image data augmentation generator\n",
    "datagen = ImageDataGenerator(zoom_range=[0.5,1.0])\n",
    "# prepare iterator\n",
    "it = datagen.flow(samples, batch_size=1)\n",
    "# generate samples and plot\n",
    "for i in range(9):\n",
<<<<<<< HEAD
<<<<<<< HEAD
    "    # define subplot\n",
    "    pyplot.subplot(330 + 1 + i)\n",
    "    # generate batch of images\n",
=======
>>>>>>> f663ecbcb288d10e832a7ef3f959185791f53919
    "    batch = it.next()\n",
    "    # convert to unsigned integers for viewing\n",
    "    current_image = batch[0].astype('uint8')\n",
    "    # plot raw pixel data\n",
    "    fig = pyplot.imshow(current_image)\n",
    "    #imwrite(fig, 'Post_Augmented_Raman_Pictures/1')\n",
    "    image.imsave('Post_Augmented_Raman_Pictures/' + str(i) + '.png', current_image)"
   ]
<<<<<<< HEAD
=======
    "    batch = it.next()\n",
    "    # convert to unsigned integers for viewing\n",
    "    current_image = batch[0].astype('uint8')\n",
    "    # plot raw pixel data\n",
    "    fig = pyplot.imshow(current_image)\n",
    "    #imwrite(fig, 'Post_Augmented_Raman_Pictures/1')\n",
    "    image.imsave('Post_Augmented_Raman_Pictures/' + str(i) + '.png', current_image)"
   ]
=======
>>>>>>> f663ecbcb288d10e832a7ef3f959185791f53919
  },
  {
   "cell_type": "markdown",
   "metadata": {},
   "source": [
    "Citations: Parts of code taken from Machine Learning MAstery, by Jason Brownlee and programcreek.com"
   ]
  },
  {
   "cell_type": "code",
   "execution_count": 58,
   "metadata": {},
   "outputs": [],
   "source": [
    "def augmentation(name):\n",
    "    # load the image\n",
    "    img = load_img('Pre_Augmented_Raman_Pictures/' + name )\n",
    "    # convert to numpy array\n",
    "    data = img_to_array(img)\n",
    "    # expand dimension to one sample\n",
    "    samples = expand_dims(data, 0)\n",
    "    # create image data augmentation generator\n",
    "    datagen = ImageDataGenerator(zoom_range=[0.5,1.0])\n",
    "    # prepare iterator\n",
    "    it = datagen.flow(samples, batch_size=1)\n",
    "    # generate samples and plot\n",
    "    for i in range(9):\n",
    "        batch = it.next()\n",
    "        # convert to unsigned integers for viewing\n",
    "        current_image = batch[0].astype('uint8')\n",
    "        # plot raw pixel data\n",
    "        fig = pyplot.imshow(current_image)\n",
    "        #imwrite(fig, 'Post_Augmented_Raman_Pictures/1')\n",
    "        image.imsave('Post_Augmented_Raman_Pictures/' + str(i) + name  , current_image)"
   ]
  },
  {
   "cell_type": "code",
   "execution_count": 57,
   "metadata": {
    "scrolled": true
   },
   "outputs": [
    {
     "name": "stdout",
     "output_type": "stream",
     "text": [
      "20191004 Set3Sample3_10a 1_.txt_fluorescent.png\n",
      "20191004 Set3Sample3_11 5_.txt_polyethylene.png\n",
      "20191004 Set3Sample3_12 5_.txt_fluorescent.png\n",
      "20191004 Set3Sample3_2 1_.txt_unknown.png\n",
      "20191004 Set3Sample3_4 5_.txt_polyethylene.png\n",
      "20191004 Set3Sample3_5 5_.txt_polyethylene.png\n",
      "20191004 Set3Sample3_6 5_.txt_polyethylene.png\n",
      "20191004 Set3Sample3_7 5_.txt_polyethylene.png\n",
      "20191004 Set3Sample3_8 5_.txt_polyethylene.png\n",
      "20191004 Set3Sample3_9 5_.txt_polyethylene.png\n",
      "20191004 Set7Sample6_1 5_.txt_unknown.png\n",
      "20191004 Set7Sample6_10 0.txt_fluorescent.png\n",
      "20191004 Set7Sample6_8 1_.txt_fluorescent.png\n",
      "20191120 Set2Sample5a-1_.txt_nylon.png\n",
      "20191120 Set2Sample5b-1_.txt_nylon.png\n",
      "20191120 Set2Sample5c-1_.txt_nylon.png\n",
      "20191120 Set2Sample5e-1_.txt_nylon.png\n",
      "20191127 Set2Sample7a_1_.txt_fluorescent.png\n",
      "20191127 Set2Sample7b_0.txt_fluorescent.png\n",
      "20191127 Set2Sample7c_1_.txt_fluorescent.png\n",
      "20191127 Set2Sample7d_1_.txt_polyamide.png\n",
      "20191127 Set2Sample7t_1_.txt_polyamide.png\n",
      "20191127 Set2Sample7v_1_.txt_polyamide.png\n",
      "Set10Sample6_5 - 1_.txt_polyamide.png\n",
      "Set1Sample2_10 - 1_.txt_nylon.png\n",
      "Set1Sample2_19 - 1_.txt_nylon.png\n",
      "Set1Sample2_3 - 1_.txt_nylon.png\n",
      "Set1Sample2_7(dark_spot) - 1_.txt_nylon.png\n",
      "Set1Sample2_7(light_spot) - 1_.txt_nylon.png\n",
      "Set1Sample2_8 - 1_.txt_polyamide.png\n",
      "Set1Sample2_9 - 1_.txt_polyamide.png\n",
      "Set2Sample6_1 - 1_.txt_nylon.png\n",
      "Set2Sample6_1 1_.txt_fluorescent.png\n",
      "Set2Sample6_2 - 1_.txt_polyamide.png\n",
      "Set2Sample6_3 - 1_.txt_polyamide.png\n",
      "Set5Sample2_1 - 5_.txt_polyethylene.png\n",
      "Set5Sample2_2 - 5_.txt_polyethylene.png\n",
      "Set5Sample2_3 - 5_.txt_polyethylene.png\n",
      "Set5Sample2_4 - 5_.txt_polyamide.png\n",
      "Set5Sample2_5 - 1_.txt_fluorescent.png\n",
      "Set6Sample1_5 - 5_.txt_fluorescent.png\n",
      "Set7Sample6_1 - 5_.txt_polyethylene.png\n"
     ]
    }
   ],
   "source": [
    "with os.scandir('Pre_Augmented_Raman_Pictures') as entries:\n",
    "    for entry in entries:\n",
    "        name = entry.name\n",
    "        augmentation(name)\n",
    "        print(name)"
   ]
  },
  {
   "cell_type": "code",
   "execution_count": null,
   "metadata": {},
   "outputs": [],
   "source": []
<<<<<<< HEAD
>>>>>>> 97d01aa040d9ac37c5841ba0d503fdad78df5ae9
=======
>>>>>>> f663ecbcb288d10e832a7ef3f959185791f53919
  }
 ],
 "metadata": {
  "kernelspec": {
   "display_name": "Python 3",
   "language": "python",
   "name": "python3"
  },
  "language_info": {
   "codemirror_mode": {
    "name": "ipython",
    "version": 3
   },
   "file_extension": ".py",
   "mimetype": "text/x-python",
   "name": "python",
   "nbconvert_exporter": "python",
   "pygments_lexer": "ipython3",
<<<<<<< HEAD
   "version": "3.7.4"
  },
  "toc": {
   "base_numbering": 1,
   "nav_menu": {},
   "number_sections": true,
   "sideBar": true,
   "skip_h1_title": false,
   "title_cell": "Table of Contents",
   "title_sidebar": "Contents",
   "toc_cell": false,
   "toc_position": {},
   "toc_section_display": true,
   "toc_window_display": false
  },
  "varInspector": {
   "cols": {
    "lenName": 16,
    "lenType": 16,
    "lenVar": 40
   },
   "kernels_config": {
    "python": {
     "delete_cmd_postfix": "",
     "delete_cmd_prefix": "del ",
     "library": "var_list.py",
     "varRefreshCmd": "print(var_dic_list())"
    },
    "r": {
     "delete_cmd_postfix": ") ",
     "delete_cmd_prefix": "rm(",
     "library": "var_list.r",
     "varRefreshCmd": "cat(var_dic_list()) "
    }
   },
   "types_to_exclude": [
    "module",
    "function",
    "builtin_function_or_method",
    "instance",
    "_Feature"
   ],
   "window_display": false
=======
   "version": "3.7.6"
>>>>>>> 97d01aa040d9ac37c5841ba0d503fdad78df5ae9
  }
 },
 "nbformat": 4,
 "nbformat_minor": 2
}
