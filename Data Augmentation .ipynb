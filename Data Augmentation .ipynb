{
 "cells": [
  {
   "cell_type": "markdown",
   "metadata": {},
   "source": [
    "Augmentation: The datapoints for training are too few right now so we will follow \"How to Configure Image Data Augmentation in Keras\" by Jason Brownlee to augment the dataset. "
   ]
  },
  {
   "cell_type": "code",
<<<<<<< HEAD
   "execution_count": 1,
   "metadata": {},
   "outputs": [
    {
     "name": "stderr",
     "output_type": "stream",
     "text": [
      "Using TensorFlow backend.\n"
     ]
    },
    {
     "data": {
      "image/png": "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\n",
      "text/plain": [
       "<Figure size 432x288 with 9 Axes>"
      ]
     },
     "metadata": {
      "needs_background": "light"
     },
     "output_type": "display_data"
    }
   ],
   "source": [
    "# example of zoom image augmentation\n",
=======
   "execution_count": 39,
   "metadata": {},
   "outputs": [],
   "source": [
>>>>>>> 97d01aa040d9ac37c5841ba0d503fdad78df5ae9
    "from numpy import expand_dims\n",
    "from keras.preprocessing.image import load_img\n",
    "from keras.preprocessing.image import img_to_array\n",
    "from keras.preprocessing.image import ImageDataGenerator\n",
    "from matplotlib import pyplot\n",
<<<<<<< HEAD
    "# load the image\n",
    "img = load_img('Pre_Augmented_Raman_Pictures/20191004 Set3Sample3_2 1_.txt_image.png')\n",
=======
    "from matplotlib import image\n",
    "%matplotlib agg\n",
    "import os"
   ]
  },
  {
   "cell_type": "code",
   "execution_count": 54,
   "metadata": {
    "scrolled": true
   },
   "outputs": [],
   "source": [
    "# load the image\n",
    "img = load_img('Pre_Augmented_Raman_Pictures/20191004 Set3Sample3_2 1_.txt_unknown.png')\n",
>>>>>>> 97d01aa040d9ac37c5841ba0d503fdad78df5ae9
    "# convert to numpy array\n",
    "data = img_to_array(img)\n",
    "# expand dimension to one sample\n",
    "samples = expand_dims(data, 0)\n",
    "# create image data augmentation generator\n",
    "datagen = ImageDataGenerator(zoom_range=[0.5,1.0])\n",
    "# prepare iterator\n",
    "it = datagen.flow(samples, batch_size=1)\n",
    "# generate samples and plot\n",
    "for i in range(9):\n",
<<<<<<< HEAD
    "    # define subplot\n",
    "    pyplot.subplot(330 + 1 + i)\n",
    "    # generate batch of images\n",
    "    batch = it.next()\n",
    "    # convert to unsigned integers for viewing\n",
    "    image = batch[0].astype('uint8')\n",
    "    # plot raw pixel data\n",
    "    pyplot.imshow(image)\n",
    "# show the figure\n",
    "pyplot.show()\n"
   ]
=======
    "    batch = it.next()\n",
    "    # convert to unsigned integers for viewing\n",
    "    current_image = batch[0].astype('uint8')\n",
    "    # plot raw pixel data\n",
    "    fig = pyplot.imshow(current_image)\n",
    "    #imwrite(fig, 'Post_Augmented_Raman_Pictures/1')\n",
    "    image.imsave('Post_Augmented_Raman_Pictures/' + str(i) + '.png', current_image)"
   ]
  },
  {
   "cell_type": "markdown",
   "metadata": {},
   "source": [
    "Citations: Parts of code taken from Machine Learning MAstery, by Jason Brownlee and programcreek.com"
   ]
  },
  {
   "cell_type": "code",
   "execution_count": 58,
   "metadata": {},
   "outputs": [],
   "source": [
    "def augmentation(name):\n",
    "    # load the image\n",
    "    img = load_img('Pre_Augmented_Raman_Pictures/' + name )\n",
    "    # convert to numpy array\n",
    "    data = img_to_array(img)\n",
    "    # expand dimension to one sample\n",
    "    samples = expand_dims(data, 0)\n",
    "    # create image data augmentation generator\n",
    "    datagen = ImageDataGenerator(zoom_range=[0.5,1.0])\n",
    "    # prepare iterator\n",
    "    it = datagen.flow(samples, batch_size=1)\n",
    "    # generate samples and plot\n",
    "    for i in range(9):\n",
    "        batch = it.next()\n",
    "        # convert to unsigned integers for viewing\n",
    "        current_image = batch[0].astype('uint8')\n",
    "        # plot raw pixel data\n",
    "        fig = pyplot.imshow(current_image)\n",
    "        #imwrite(fig, 'Post_Augmented_Raman_Pictures/1')\n",
    "        image.imsave('Post_Augmented_Raman_Pictures/' + str(i) + name  , current_image)"
   ]
  },
  {
   "cell_type": "code",
   "execution_count": 57,
   "metadata": {
    "scrolled": true
   },
   "outputs": [
    {
     "name": "stdout",
     "output_type": "stream",
     "text": [
      "20191004 Set3Sample3_10a 1_.txt_fluorescent.png\n",
      "20191004 Set3Sample3_11 5_.txt_polyethylene.png\n",
      "20191004 Set3Sample3_12 5_.txt_fluorescent.png\n",
      "20191004 Set3Sample3_2 1_.txt_unknown.png\n",
      "20191004 Set3Sample3_4 5_.txt_polyethylene.png\n",
      "20191004 Set3Sample3_5 5_.txt_polyethylene.png\n",
      "20191004 Set3Sample3_6 5_.txt_polyethylene.png\n",
      "20191004 Set3Sample3_7 5_.txt_polyethylene.png\n",
      "20191004 Set3Sample3_8 5_.txt_polyethylene.png\n",
      "20191004 Set3Sample3_9 5_.txt_polyethylene.png\n",
      "20191004 Set7Sample6_1 5_.txt_unknown.png\n",
      "20191004 Set7Sample6_10 0.txt_fluorescent.png\n",
      "20191004 Set7Sample6_8 1_.txt_fluorescent.png\n",
      "20191120 Set2Sample5a-1_.txt_nylon.png\n",
      "20191120 Set2Sample5b-1_.txt_nylon.png\n",
      "20191120 Set2Sample5c-1_.txt_nylon.png\n",
      "20191120 Set2Sample5e-1_.txt_nylon.png\n",
      "20191127 Set2Sample7a_1_.txt_fluorescent.png\n",
      "20191127 Set2Sample7b_0.txt_fluorescent.png\n",
      "20191127 Set2Sample7c_1_.txt_fluorescent.png\n",
      "20191127 Set2Sample7d_1_.txt_polyamide.png\n",
      "20191127 Set2Sample7t_1_.txt_polyamide.png\n",
      "20191127 Set2Sample7v_1_.txt_polyamide.png\n",
      "Set10Sample6_5 - 1_.txt_polyamide.png\n",
      "Set1Sample2_10 - 1_.txt_nylon.png\n",
      "Set1Sample2_19 - 1_.txt_nylon.png\n",
      "Set1Sample2_3 - 1_.txt_nylon.png\n",
      "Set1Sample2_7(dark_spot) - 1_.txt_nylon.png\n",
      "Set1Sample2_7(light_spot) - 1_.txt_nylon.png\n",
      "Set1Sample2_8 - 1_.txt_polyamide.png\n",
      "Set1Sample2_9 - 1_.txt_polyamide.png\n",
      "Set2Sample6_1 - 1_.txt_nylon.png\n",
      "Set2Sample6_1 1_.txt_fluorescent.png\n",
      "Set2Sample6_2 - 1_.txt_polyamide.png\n",
      "Set2Sample6_3 - 1_.txt_polyamide.png\n",
      "Set5Sample2_1 - 5_.txt_polyethylene.png\n",
      "Set5Sample2_2 - 5_.txt_polyethylene.png\n",
      "Set5Sample2_3 - 5_.txt_polyethylene.png\n",
      "Set5Sample2_4 - 5_.txt_polyamide.png\n",
      "Set5Sample2_5 - 1_.txt_fluorescent.png\n",
      "Set6Sample1_5 - 5_.txt_fluorescent.png\n",
      "Set7Sample6_1 - 5_.txt_polyethylene.png\n"
     ]
    }
   ],
   "source": [
    "with os.scandir('Pre_Augmented_Raman_Pictures') as entries:\n",
    "    for entry in entries:\n",
    "        name = entry.name\n",
    "        augmentation(name)\n",
    "        print(name)"
   ]
  },
  {
   "cell_type": "code",
   "execution_count": null,
   "metadata": {},
   "outputs": [],
   "source": []
>>>>>>> 97d01aa040d9ac37c5841ba0d503fdad78df5ae9
  }
 ],
 "metadata": {
  "kernelspec": {
   "display_name": "Python 3",
   "language": "python",
   "name": "python3"
  },
  "language_info": {
   "codemirror_mode": {
    "name": "ipython",
    "version": 3
   },
   "file_extension": ".py",
   "mimetype": "text/x-python",
   "name": "python",
   "nbconvert_exporter": "python",
   "pygments_lexer": "ipython3",
<<<<<<< HEAD
   "version": "3.7.4"
  },
  "toc": {
   "base_numbering": 1,
   "nav_menu": {},
   "number_sections": true,
   "sideBar": true,
   "skip_h1_title": false,
   "title_cell": "Table of Contents",
   "title_sidebar": "Contents",
   "toc_cell": false,
   "toc_position": {},
   "toc_section_display": true,
   "toc_window_display": false
  },
  "varInspector": {
   "cols": {
    "lenName": 16,
    "lenType": 16,
    "lenVar": 40
   },
   "kernels_config": {
    "python": {
     "delete_cmd_postfix": "",
     "delete_cmd_prefix": "del ",
     "library": "var_list.py",
     "varRefreshCmd": "print(var_dic_list())"
    },
    "r": {
     "delete_cmd_postfix": ") ",
     "delete_cmd_prefix": "rm(",
     "library": "var_list.r",
     "varRefreshCmd": "cat(var_dic_list()) "
    }
   },
   "types_to_exclude": [
    "module",
    "function",
    "builtin_function_or_method",
    "instance",
    "_Feature"
   ],
   "window_display": false
=======
   "version": "3.7.6"
>>>>>>> 97d01aa040d9ac37c5841ba0d503fdad78df5ae9
  }
 },
 "nbformat": 4,
 "nbformat_minor": 2
}
