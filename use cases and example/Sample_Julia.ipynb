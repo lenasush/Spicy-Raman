{
 "cells": [
  {
   "cell_type": "code",
   "execution_count": 1,
   "metadata": {},
   "outputs": [
    {
     "name": "stderr",
     "output_type": "stream",
     "text": [
      "Using TensorFlow backend.\n"
     ]
    }
   ],
   "source": [
    "import tensorflow as tf\n",
    "from tensorflow import keras\n",
    "import pandas as pd\n",
    "from tensorflow.keras.models import Sequential\n",
    "import zipfile\n",
    "from zipfile import ZipFile\n",
    "import os\n",
    "import numpy as np\n",
    "import matplotlib.pyplot as plt\n",
    "import tensorflow as tf\n",
    "from keras.models import load_model\n",
    "from keras.preprocessing import image\n",
    "import matplotlib\n",
    "matplotlib.use('TkAgg')\n",
    "import matplotlib.pyplot as plt"
   ]
  },
  {
   "cell_type": "code",
   "execution_count": 2,
   "metadata": {
    "scrolled": true
   },
   "outputs": [
    {
     "data": {
      "text/plain": [
       "(None, 150, 150, 3)"
      ]
     },
     "execution_count": 2,
     "metadata": {},
     "output_type": "execute_result"
    }
   ],
   "source": [
    "loaded_model = tf.keras.models.load_model('Spicy_Raman_Saved_Model.h5')\n",
    "loaded_model.layers[0].input_shape #(None, 160, 160, 3)"
   ]
  },
  {
   "cell_type": "code",
   "execution_count": 3,
   "metadata": {},
   "outputs": [],
   "source": [
    "IMG_SIZE =150"
   ]
  },
  {
   "cell_type": "code",
   "execution_count": 4,
   "metadata": {},
   "outputs": [],
   "source": [
    "batch_holder = np.zeros((20, IMG_SIZE, IMG_SIZE, 3))\n",
    "img_dir= '/Users/juliawang/Desktop/Direct/Spicy-Raman/model_train_and_validate/validationdata_Pictures/nylon_Pictures'"
   ]
  },
  {
   "cell_type": "code",
   "execution_count": null,
   "metadata": {},
   "outputs": [],
   "source": [
    "image_path= '/Users/juliawang/Desktop/Direct/Spicy-Raman/model_train_and_validate/validationdata_Pictures/nylon_Pictures/0Set1Sample2_3 - 1_.txt_nylon.png'\n",
    "img = image.load_img(image_path, target_size=(IMG_SIZE, IMG_SIZE))\n",
    "#plt.imshow(img)\n",
    "img = np.expand_dims(img, axis=0)\n",
    "img = tf.cast(img, tf.float32)\n",
    "result=loaded_model.predict_classes(img)\n",
    "#plt.title(get_label_name(result[0][0]))\n",
    "#plt.show()"
   ]
  },
  {
   "cell_type": "code",
   "execution_count": null,
   "metadata": {},
   "outputs": [],
   "source": []
  }
 ],
 "metadata": {
  "kernelspec": {
   "display_name": "Python 3",
   "language": "python",
   "name": "python3"
  },
  "language_info": {
   "codemirror_mode": {
    "name": "ipython",
    "version": 3
   },
   "file_extension": ".py",
   "mimetype": "text/x-python",
   "name": "python",
   "nbconvert_exporter": "python",
   "pygments_lexer": "ipython3",
   "version": "3.7.4"
  }
 },
 "nbformat": 4,
 "nbformat_minor": 2
}
