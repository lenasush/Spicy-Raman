{
 "cells": [
  {
   "cell_type": "code",
   "execution_count": 1,
   "metadata": {},
   "outputs": [
    {
     "name": "stderr",
     "output_type": "stream",
     "text": [
      "Using TensorFlow backend.\n"
     ]
    }
   ],
   "source": [
    "import preprocessing as pp\n",
    "import Augmentation as ag\n",
    "import pic_class as pc\n",
    "import TrainTestSplit as ts\n",
    "import tensorflow as tf\n",
    "from tensorflow import keras\n",
    "import numpy as np\n",
    "import pandas as pd\n",
    "import matplotlib.pyplot as plt\n",
    "from tensorflow.keras.models import Sequential\n",
    "from tensorflow.keras.layers import Dense, Conv2D, Flatten, Dropout, MaxPooling2D\n",
    "from tensorflow.keras.preprocessing.image import ImageDataGenerator\n",
    "\n",
    "import os"
   ]
  },
  {
   "cell_type": "code",
   "execution_count": 2,
   "metadata": {},
   "outputs": [],
   "source": [
    "import matplotlib.pyplot as plt\n",
    "%matplotlib agg"
   ]
  },
  {
   "cell_type": "code",
   "execution_count": 3,
   "metadata": {},
   "outputs": [
    {
     "name": "stdout",
     "output_type": "stream",
     "text": [
      "fluorescent\n",
      "nylon\n",
      "polyamide\n",
      "polyethylene\n",
      "unknown\n"
     ]
    }
   ],
   "source": [
    "pp.preprocessing('Raman_Data') \n"
   ]
  },
  {
   "cell_type": "code",
   "execution_count": null,
   "metadata": {},
   "outputs": [],
   "source": [
    "ag.full_augmentation('/Users/pojulai168931/Desktop/DIRECT/Spicy-Raman/Pre_Augmented_Raman_Pictures')\n",
    "source1 = os.getcwd() + '/Post_Augmented_Raman_Pictures'\n",
    "ts.train_test_split(source1, 0.8)\n",
    "source = os.getcwd() + '/validationdata_Pictures'\n",
    "pc.picture_classification(source)"
   ]
  },
  {
   "cell_type": "code",
   "execution_count": null,
   "metadata": {},
   "outputs": [],
   "source": []
  },
  {
   "cell_type": "code",
   "execution_count": null,
   "metadata": {},
   "outputs": [],
   "source": []
  },
  {
   "cell_type": "code",
   "execution_count": null,
   "metadata": {},
   "outputs": [],
   "source": []
  },
  {
   "cell_type": "code",
   "execution_count": null,
   "metadata": {},
   "outputs": [],
   "source": [
    "## Data Importing"
   ]
  },
  {
   "cell_type": "code",
   "execution_count": 8,
   "metadata": {},
   "outputs": [
    {
     "data": {
      "text/plain": [
       "'/Users/pojulai168931/Desktop/DIRECT/Spicy-Raman'"
      ]
     },
     "execution_count": 8,
     "metadata": {},
     "output_type": "execute_result"
    }
   ],
   "source": [
    "PATH = os.getcwd()\n",
    "PATH"
   ]
  },
  {
   "cell_type": "code",
   "execution_count": 9,
   "metadata": {},
   "outputs": [],
   "source": [
    "train_dir = os.path.join(PATH, 'trainingdata_Pictures')\n",
    "validation_dir = os.path.join(PATH, 'validationdata_Pictures')"
   ]
  },
  {
   "cell_type": "markdown",
   "metadata": {},
   "source": [
    "## Data Information"
   ]
  },
  {
   "cell_type": "code",
   "execution_count": 10,
   "metadata": {},
   "outputs": [
    {
     "name": "stdout",
     "output_type": "stream",
     "text": [
      "Total training images: 167\n",
      "Total validation images: 183\n"
     ]
    }
   ],
   "source": [
    "train_fluorescent_dir = os.path.join(train_dir, 'fluorescent_Pictures')\n",
    "train_nylon_dir = os.path.join(train_dir, 'nylon_Pictures')\n",
    "train_polyamide_dir = os.path.join(train_dir, 'polyamide_Pictures')\n",
    "train_polyethylene_dir = os.path.join(train_dir, 'polyethylene_Pictures')\n",
    "train_others_dir = os.path.join(train_dir, 'others_Pictures')\n",
    "\n",
    "validation_fluorescent_dir = os.path.join(validation_dir, 'fluorescent_Pictures')\n",
    "validation_nylon_dir = os.path.join(validation_dir, 'nylon_Pictures')\n",
    "validation_polyamide_dir = os.path.join(validation_dir, 'polyamide_Pictures')\n",
    "validation_polyethylene_dir = os.path.join(validation_dir, 'polyethylene_Pictures')\n",
    "validation_others_dir = os.path.join(validation_dir, 'others_Pictures')\n",
    "\n",
    "num_fluorescent_tr = len(os.listdir(train_fluorescent_dir))\n",
    "num_nylon_tr = len(os.listdir(train_nylon_dir))\n",
    "num_polyamide_tr = len(os.listdir(train_polyamide_dir))\n",
    "num_polyethylene_tr = len(os.listdir(train_polyethylene_dir))\n",
    "num_others_tr = len(os.listdir(train_others_dir))\n",
    "\n",
    "num_fluorescent_val = len(os.listdir(validation_fluorescent_dir))\n",
    "num_nylon_val = len(os.listdir(validation_nylon_dir))\n",
    "num_polyamide_val = len(os.listdir(validation_polyamide_dir))\n",
    "num_polyethylene_val = len(os.listdir(validation_polyethylene_dir))\n",
    "num_others_val = len(os.listdir(validation_others_dir))\n",
    "\n",
    "\n",
    "#num_cats_val = len(os.listdir(validation_cats_dir))\n",
    "#num_dogs_val = len(os.listdir(validation_dogs_dir))\n",
    "\n",
    "total_train = num_fluorescent_tr + num_polyamide_tr + num_nylon_tr + num_polyethylene_tr + num_others_tr\n",
    "total_val = num_fluorescent_val + num_polyamide_val + num_nylon_val + num_polyethylene_val + num_others_val\n",
    "\n",
    "#validation_cats_dir = os.path.join(validation_dir, 'cats')\n",
    "#validation_dogs_dir = os.path.join(validation_dir, 'dogs')\n",
    "print(\"Total training images:\", total_train)\n",
    "print(\"Total validation images:\", total_val)"
   ]
  },
  {
   "cell_type": "markdown",
   "metadata": {},
   "source": [
    "## Data Training"
   ]
  },
  {
   "cell_type": "code",
   "execution_count": 12,
   "metadata": {},
   "outputs": [],
   "source": [
    "batch_size = 128\n",
    "epochs = 15\n",
    "IMG_HEIGHT = 150\n",
    "IMG_WIDTH = 150"
   ]
  },
  {
   "cell_type": "code",
   "execution_count": 13,
   "metadata": {},
   "outputs": [],
   "source": [
    "train_image_generator = ImageDataGenerator(rescale=1./255) \n",
    "validation_image_generator = ImageDataGenerator(rescale=1./255)"
   ]
  },
  {
   "cell_type": "code",
   "execution_count": 14,
   "metadata": {},
   "outputs": [
    {
     "name": "stdout",
     "output_type": "stream",
     "text": [
      "Found 166 images belonging to 5 classes.\n"
     ]
    }
   ],
   "source": [
    "train_data_gen = train_image_generator.flow_from_directory(batch_size=batch_size,\n",
    "                                                           directory=train_dir,\n",
    "                                                           shuffle=True,\n",
    "                                                           target_size=(IMG_HEIGHT, IMG_WIDTH),\n",
    "                                                           class_mode='binary')"
   ]
  },
  {
   "cell_type": "code",
   "execution_count": 15,
   "metadata": {},
   "outputs": [
    {
     "name": "stdout",
     "output_type": "stream",
     "text": [
      "Found 183 images belonging to 5 classes.\n"
     ]
    }
   ],
   "source": [
    "val_data_gen = validation_image_generator.flow_from_directory(batch_size=batch_size,\n",
    "                                                              directory=validation_dir,\n",
    "                                                              target_size=(IMG_HEIGHT, IMG_WIDTH),\n",
    "                                                              class_mode='binary')"
   ]
  },
  {
   "cell_type": "code",
   "execution_count": 16,
   "metadata": {},
   "outputs": [],
   "source": [
    "sample_training_images, _ = next(train_data_gen)"
   ]
  },
  {
   "cell_type": "code",
   "execution_count": 17,
   "metadata": {},
   "outputs": [],
   "source": [
    "def plotImages(images_arr):\n",
    "    fig, axes = plt.subplots(1, 5, figsize=(20,20))\n",
    "    axes = axes.flatten()\n",
    "    for img, ax in zip( images_arr, axes):\n",
    "        ax.imshow(img)\n",
    "        ax.axis('off')\n",
    "    plt.tight_layout()\n",
    "    plt.show()"
   ]
  },
  {
   "cell_type": "code",
   "execution_count": 18,
   "metadata": {},
   "outputs": [
    {
     "data": {
      "image/png": "[encoded data removed]",
      "text/plain": [
       "<Figure size 1440x1440 with 5 Axes>"
      ]
     },
     "metadata": {
      "needs_background": "light"
     },
     "output_type": "display_data"
    }
   ],
   "source": [
    "plotImages(sample_training_images[:5])"
   ]
  },
  {
   "cell_type": "code",
   "execution_count": 19,
   "metadata": {},
   "outputs": [],
   "source": [
    "model = Sequential([\n",
    "    Conv2D(16, 3, padding='same', activation='relu', input_shape=(IMG_HEIGHT, IMG_WIDTH ,3)),\n",
    "    MaxPooling2D(),\n",
    "    Conv2D(32, 3, padding='same', activation='relu'),\n",
    "    MaxPooling2D(),\n",
    "    Conv2D(64, 3, padding='same', activation='relu'),\n",
    "    MaxPooling2D(),\n",
    "    Flatten(),\n",
    "    Dense(512, activation='relu'),\n",
    "    Dense(1)\n",
    "])"
   ]
  },
  {
   "cell_type": "code",
   "execution_count": 20,
   "metadata": {},
   "outputs": [],
   "source": [
    "model.compile(optimizer='adam',\n",
    "              loss=tf.keras.losses.BinaryCrossentropy(from_logits=True),\n",
    "              metrics=['accuracy'])"
   ]
  },
  {
   "cell_type": "code",
   "execution_count": 21,
   "metadata": {},
   "outputs": [
    {
     "name": "stdout",
     "output_type": "stream",
     "text": [
      "Model: \"sequential\"\n",
      "_________________________________________________________________\n",
      "Layer (type)                 Output Shape              Param #   \n",
      "=================================================================\n",
      "conv2d (Conv2D)              (None, 150, 150, 16)      448       \n",
      "_________________________________________________________________\n",
      "max_pooling2d (MaxPooling2D) (None, 75, 75, 16)        0         \n",
      "_________________________________________________________________\n",
      "conv2d_1 (Conv2D)            (None, 75, 75, 32)        4640      \n",
      "_________________________________________________________________\n",
      "max_pooling2d_1 (MaxPooling2 (None, 37, 37, 32)        0         \n",
      "_________________________________________________________________\n",
      "conv2d_2 (Conv2D)            (None, 37, 37, 64)        18496     \n",
      "_________________________________________________________________\n",
      "max_pooling2d_2 (MaxPooling2 (None, 18, 18, 64)        0         \n",
      "_________________________________________________________________\n",
      "flatten (Flatten)            (None, 20736)             0         \n",
      "_________________________________________________________________\n",
      "dense (Dense)                (None, 512)               10617344  \n",
      "_________________________________________________________________\n",
      "dense_1 (Dense)              (None, 1)                 513       \n",
      "=================================================================\n",
      "Total params: 10,641,441\n",
      "Trainable params: 10,641,441\n",
      "Non-trainable params: 0\n",
      "_________________________________________________________________\n"
     ]
    }
   ],
   "source": [
    "model.summary()"
   ]
  },
  {
   "cell_type": "code",
   "execution_count": 22,
   "metadata": {},
   "outputs": [
    {
     "name": "stdout",
     "output_type": "stream",
     "text": [
      "WARNING:tensorflow:From <ipython-input-22-01c6f78f4d4f>:6: Model.fit_generator (from tensorflow.python.keras.engine.training) is deprecated and will be removed in a future version.\n",
      "Instructions for updating:\n",
      "Please use Model.fit, which supports generators.\n",
      "Epoch 1/15\n",
      "1/1 [==============================] - 2s 2s/step - loss: -0.2008 - accuracy: 0.2368 - val_loss: -36.2115 - val_accuracy: 0.2422\n",
      "Epoch 2/15\n",
      "1/1 [==============================] - 2s 2s/step - loss: -30.2813 - accuracy: 0.2266 - val_loss: -85.6550 - val_accuracy: 0.2734\n",
      "Epoch 3/15\n",
      "1/1 [==============================] - 2s 2s/step - loss: -98.8979 - accuracy: 0.2368 - val_loss: -173.8031 - val_accuracy: 0.2578\n",
      "Epoch 4/15\n",
      "1/1 [==============================] - 2s 2s/step - loss: -150.7132 - accuracy: 0.2266 - val_loss: -271.3329 - val_accuracy: 0.2812\n",
      "Epoch 5/15\n",
      "1/1 [==============================] - 2s 2s/step - loss: -223.9496 - accuracy: 0.2368 - val_loss: -414.8416 - val_accuracy: 0.2578\n",
      "Epoch 6/15\n",
      "1/1 [==============================] - 2s 2s/step - loss: -334.5413 - accuracy: 0.2500 - val_loss: -799.1912 - val_accuracy: 0.2344\n",
      "Epoch 7/15\n",
      "1/1 [==============================] - 2s 2s/step - loss: -904.9905 - accuracy: 0.1579 - val_loss: -1025.7478 - val_accuracy: 0.2344\n",
      "Epoch 8/15\n",
      "1/1 [==============================] - 2s 2s/step - loss: -915.9436 - accuracy: 0.2266 - val_loss: -1413.0488 - val_accuracy: 0.2891\n",
      "Epoch 9/15\n",
      "1/1 [==============================] - 2s 2s/step - loss: -860.9704 - accuracy: 0.2368 - val_loss: -1997.4789 - val_accuracy: 0.2578\n",
      "Epoch 10/15\n",
      "1/1 [==============================] - 2s 2s/step - loss: -1849.6418 - accuracy: 0.2266 - val_loss: -2635.9819 - val_accuracy: 0.2656\n",
      "Epoch 11/15\n",
      "1/1 [==============================] - 2s 2s/step - loss: -1319.7484 - accuracy: 0.2368 - val_loss: -3943.4778 - val_accuracy: 0.2344\n",
      "Epoch 12/15\n",
      "1/1 [==============================] - 2s 2s/step - loss: -3172.2317 - accuracy: 0.2031 - val_loss: -4690.6953 - val_accuracy: 0.2578\n",
      "Epoch 13/15\n",
      "1/1 [==============================] - 2s 2s/step - loss: -3255.4368 - accuracy: 0.3158 - val_loss: -5856.4727 - val_accuracy: 0.2734\n",
      "Epoch 14/15\n",
      "1/1 [==============================] - 2s 2s/step - loss: -5209.1035 - accuracy: 0.2500 - val_loss: -7414.1260 - val_accuracy: 0.2578\n",
      "Epoch 15/15\n",
      "1/1 [==============================] - 2s 2s/step - loss: -6826.0156 - accuracy: 0.1579 - val_loss: -10106.3320 - val_accuracy: 0.2656\n"
     ]
    }
   ],
   "source": [
    "history = model.fit_generator(\n",
    "    train_data_gen,\n",
    "    steps_per_epoch=total_train // batch_size,\n",
    "    epochs=epochs,\n",
    "    validation_data=val_data_gen,\n",
    "    validation_steps=total_val // batch_size\n",
    ")"
   ]
  },
  {
   "cell_type": "code",
   "execution_count": null,
   "metadata": {},
   "outputs": [],
   "source": [
    "acc = history.history['accuracy']\n",
    "val_acc = history.history['val_accuracy']\n",
    "\n",
    "loss=history.history['loss']\n",
    "val_loss=history.history['val_loss']\n",
    "\n",
    "epochs_range = range(epochs)\n",
    "\n",
    "plt.figure(figsize=(8, 8))\n",
    "plt.subplot(1, 2, 1)\n",
    "plt.plot(epochs_range, acc, label='Training Accuracy')\n",
    "plt.plot(epochs_range, val_acc, label='Validation Accuracy')\n",
    "plt.legend(loc='lower right')\n",
    "plt.title('Training and Validation Accuracy')\n",
    "\n",
    "plt.subplot(1, 2, 2)\n",
    "plt.plot(epochs_range, loss, label='Training Loss')\n",
    "plt.plot(epochs_range, val_loss, label='Validation Loss')\n",
    "plt.legend(loc='upper right')\n",
    "plt.title('Training and Validation Loss')\n",
    "plt.show()"
   ]
  },
  {
   "cell_type": "code",
   "execution_count": null,
   "metadata": {},
   "outputs": [],
   "source": [
    "class_names = ['Polyethylene', 'Fluorescent', 'Polyamide', 'Nylon', 'Unknown']\n",
    "train_images = train_images/255.0\n",
    "test_images = test_images/255.0"
   ]
  },
  {
   "cell_type": "code",
   "execution_count": null,
   "metadata": {},
   "outputs": [],
   "source": [
    "model = keras.Sequential([\n",
    "    keras.layers.Flatten(input_shape = (28,28)),\n",
    "    keras.layers.Dense(128, activation = \"relu\"),\n",
    "    keras.layers.Dense(10, activation = \"softmax\")\n",
    "    ])\n",
    "\n",
    "model.compile(optimizer = \"adam\", loss = \"sparse_categorical_crossentropy\", metrics = [\"accuracy\"])"
   ]
  }
 ],
 "metadata": {
  "kernelspec": {
   "display_name": "Python 3",
   "language": "python",
   "name": "python3"
  },
  "language_info": {
   "codemirror_mode": {
    "name": "ipython",
    "version": 3
   },
   "file_extension": ".py",
   "mimetype": "text/x-python",
   "name": "python",
   "nbconvert_exporter": "python",
   "pygments_lexer": "ipython3",
   "version": "3.7.6"
  }
 },
 "nbformat": 4,
 "nbformat_minor": 2
}
