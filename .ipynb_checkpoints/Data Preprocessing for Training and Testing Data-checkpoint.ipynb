{
 "cells": [
  {
   "cell_type": "code",
   "execution_count": 29,
   "metadata": {},
   "outputs": [],
   "source": [
    "import numpy as np\n",
    "import matplotlib.pyplot as plt"
   ]
  },
  {
   "cell_type": "code",
   "execution_count": 33,
   "metadata": {},
   "outputs": [],
   "source": [
    "SearchPath = ''\n",
    "def GetFileNames():\n",
    "    files = os.listdir(SearchPath.get()) #gets list of files\n",
    "    return files #can be indexed"
   ]
  },
  {
   "cell_type": "code",
   "execution_count": 46,
   "metadata": {},
   "outputs": [
    {
     "name": "stdout",
     "output_type": "stream",
     "text": [
      "fluorescent\n",
      "20191004 Set3Sample3_10a 1_.txt\n",
      "20191004 Set3Sample3_12 5_.txt\n",
      "20191004 Set7Sample6_10 0.txt\n",
      "20191004 Set7Sample6_8 1_.txt\n",
      "20191127 Set2Sample7a_1_.txt\n",
      "20191127 Set2Sample7b_0.txt\n",
      "20191127 Set2Sample7c_1_.txt\n",
      "Set2Sample6_1 1_.txt\n",
      "Set5Sample2_5 - 1_.txt\n",
      "Set6Sample1_5 - 5_.txt\n",
      "nylon\n",
      "20191120 Set2Sample5a-1_.txt\n",
      "20191120 Set2Sample5b-1_.txt\n",
      "20191120 Set2Sample5c-1_.txt\n",
      "20191120 Set2Sample5e-1_.txt\n",
      "Set1Sample2_10 - 1_.txt\n",
      "Set1Sample2_19 - 1_.txt\n",
      "Set1Sample2_3 - 1_.txt\n",
      "Set1Sample2_7(dark_spot) - 1_.txt\n",
      "Set1Sample2_7(light_spot) - 1_.txt\n",
      "Set2Sample6_1 - 1_.txt\n",
      "polyamide\n",
      "20191127 Set2Sample7d_1_.txt\n",
      "20191127 Set2Sample7t_1_.txt\n",
      "20191127 Set2Sample7v_1_.txt\n",
      "Set10Sample6_5 - 1_.txt\n",
      "Set1Sample2_8 - 1_.txt\n",
      "Set1Sample2_9 - 1_.txt\n",
      "Set2Sample6_2 - 1_.txt\n",
      "Set2Sample6_3 - 1_.txt\n",
      "Set5Sample2_4 - 5_.txt\n",
      "polyethylene\n",
      "20191004 Set3Sample3_11 5_.txt\n",
      "20191004 Set3Sample3_4 5_.txt\n",
      "20191004 Set3Sample3_5 5_.txt\n",
      "20191004 Set3Sample3_6 5_.txt\n",
      "20191004 Set3Sample3_7 5_.txt\n",
      "20191004 Set3Sample3_8 5_.txt\n",
      "20191004 Set3Sample3_9 5_.txt\n",
      "Set5Sample2_1 - 5_.txt\n",
      "Set5Sample2_2 - 5_.txt\n",
      "Set5Sample2_3 - 5_.txt\n",
      "Set7Sample6_1 - 5_.txt\n",
      "unknown\n",
      "20191004 Set3Sample3_2 1_.txt\n",
      "20191004 Set7Sample6_1 5_.txt\n"
     ]
    }
   ],
   "source": [
    "import os\n",
    "os.listdir()\n",
    "with os.scandir('Raman_Data') as entries:\n",
    "    for entry in entries:\n",
    "        filename = entry.name\n",
    "        print(filename)\n",
    "        with os.scandir('Raman_Data/' + filename) as entries:\n",
    "            for entry in entries:\n",
    "                print(entry.name)\n",
    "\n",
    "#        with entry.scandir(file_name) as folders:\n",
    "#            for entry in folders:\n",
    "#                print(entry.name)"
   ]
  },
  {
   "cell_type": "code",
   "execution_count": 40,
   "metadata": {},
   "outputs": [
    {
     "name": "stdout",
     "output_type": "stream",
     "text": [
      "fluorescent\n",
      "nylon\n",
      "polyamide\n",
      "polyethylene\n",
      "unknown\n"
     ]
    }
   ],
   "source": []
  },
  {
   "cell_type": "markdown",
   "metadata": {},
   "source": [
    "read all of the data in a file"
   ]
  },
  {
   "cell_type": "markdown",
   "metadata": {},
   "source": [
    "#### pseudo-code \n",
    "\n",
    "for number_of_category_folders in folder:\n",
    "    go into folder\n",
    "    for number_of_files_in_folder:\n",
    "        data = read file\n",
    "        run graph_and_save"
   ]
  },
  {
   "cell_type": "code",
   "execution_count": null,
   "metadata": {},
   "outputs": [],
   "source": [
    "\n",
    "data = pd.read_csv(\"\")"
   ]
  },
  {
   "cell_type": "markdown",
   "metadata": {},
   "source": [
    "Graph and save the data for each file"
   ]
  },
  {
   "cell_type": "code",
   "execution_count": 4,
   "metadata": {},
   "outputs": [],
   "source": [
    "def graph_and_save (data, folder_name):\n",
    "    #y = [2,4,6,8,10,12,14,16,18,20]\n",
    "    y = data[1]\n",
    "    #x = np.arange(10)\n",
    "    x = data[0]\n",
    "    fig = plt.figure()\n",
    "    ax = plt.subplot(111)\n",
    "    #ax.plot(x, y, label='$y = numbers')\n",
    "    #plt.title('Legend inside')\n",
    "    ax.legend()\n",
    "    #plt.show()\n",
    "\n",
    "    fig.savefig('plot.png')"
   ]
  },
  {
   "cell_type": "code",
   "execution_count": null,
   "metadata": {},
   "outputs": [],
   "source": []
  }
 ],
 "metadata": {
  "kernelspec": {
   "display_name": "Python 3",
   "language": "python",
   "name": "python3"
  },
  "language_info": {
   "codemirror_mode": {
    "name": "ipython",
    "version": 3
   },
   "file_extension": ".py",
   "mimetype": "text/x-python",
   "name": "python",
   "nbconvert_exporter": "python",
   "pygments_lexer": "ipython3",
   "version": "3.7.6"
  }
 },
 "nbformat": 4,
 "nbformat_minor": 2
}
